{
 "cells": [
  {
   "cell_type": "markdown",
   "metadata": {},
   "source": [
    "# M4W4 Advanced topics in Python\n",
    "\n",
    "Welocome to the last workshop of your second module of this course. Today we will cover:\n",
    "\n",
    "- What do the undersocres mean in Python naming\n",
    "- The constructor fucntion `__new__` and how is it different from `__init__`\n",
    "- What are the `*args` and `**kw}args` fucntion inputs in Python\n",
    "- What decorators are and why they are useful in Python"
   ]
  },
  {
   "cell_type": "markdown",
   "metadata": {},
   "source": [
    "# How underscores are used in naming variables in Python"
   ]
  },
  {
   "cell_type": "markdown",
   "metadata": {},
   "source": [
    "As you have noticed in the previous workshop, we have worked with the `__init__` method in clases as a *constructor*; a way to create instances of classes.\n",
    "\n",
    "If this is your first encounter with the more advanced elements of Python, you would have noticed that except the `__init__` method, we haven't encountered any other use of the underscore, single or double, in the naming variable. \n",
    "\n",
    "But underscores play a very important role when naming variables within the OOP space. Underscores can come into the following four flavors:\n",
    "\n",
    "- `_single_leading_underscore`: weak \"internal use\" indicator. E.g. `from M import *` does not import objects whose name starts with an underscore.\n",
    "\n",
    "\n",
    "- `single_trailing_underscore_`: used by convention to avoid conflicts with Python keyword, e.g. `Tkinter.Toplevel(master, class_='ClassName')`\n",
    "\n",
    "\n",
    "- `__double_leading_underscore`: when naming a class attribute, invokes name mangling (inside class FooBar, `__boo` becomes `_FooBar__boo`).\n",
    "\n",
    "\n",
    "- `__double_leading_and_trailing_underscore__`: \"magic\" objects or attributes that live in user-controlled namespaces. E.g. `__init__`, `__import__` or `__file__`. **Never invent such names; only use them as documented**."
   ]
  },
  {
   "cell_type": "markdown",
   "metadata": {},
   "source": [
    "Let's work on some examples:\n",
    "\n",
    "- ### `_single_leading_underscore`"
   ]
  },
  {
   "cell_type": "code",
   "execution_count": 1,
   "metadata": {},
   "outputs": [],
   "source": [
    "from typing import Union\n",
    "\n",
    "class SunderLeading():\n",
    "    \n",
    "    def __init__(self):\n",
    "        pass\n",
    "    \n",
    "    def _calulate_sum(self, x:Union[int, float], y:Union[int,float]) -> Union[int,float]:\n",
    "        return x + y\n",
    "    \n",
    "    def print_sum(self, x:Union[int, float], y:Union[int,float]) -> Union[int,float]:\n",
    "        print(f\"The sum of {x} and {y} is {self._calulate_sum(x,y)}\")\n",
    "        "
   ]
  },
  {
   "cell_type": "markdown",
   "metadata": {},
   "source": [
    "### Q: What is the *correct* way of prining thre sum of two numbers using the above class?"
   ]
  },
  {
   "cell_type": "code",
   "execution_count": 4,
   "metadata": {},
   "outputs": [
    {
     "name": "stdout",
     "output_type": "stream",
     "text": [
      "The sum of 2 and 3 is 5\n"
     ]
    }
   ],
   "source": [
    "SunderLeading().print_sum(2,3)"
   ]
  },
  {
   "cell_type": "markdown",
   "metadata": {},
   "source": [
    "The function `_calculate_sum` should **not be used** outside the class! While Python cannot enforce it, we use the single underscore `_` for that reason. If you search on the documentation of the most widely used packages in Python you see that they make use of this *very often*"
   ]
  },
  {
   "cell_type": "markdown",
   "metadata": {},
   "source": [
    "- ### `single_trailing_undersocre_`\n",
    "\n",
    "This can be used even outside the OOP score, when defining things like lists, sets etc"
   ]
  },
  {
   "cell_type": "code",
   "execution_count": null,
   "metadata": {},
   "outputs": [],
   "source": [
    "list_: list[int] = [1,2,3]\n",
    "set_: set[int] = {1,2,3}"
   ]
  },
  {
   "cell_type": "markdown",
   "metadata": {},
   "source": [
    "- ### `__double_leading_underscore`\n",
    "\n",
    "These must be used with caution becuase their use can **affect the behaviour of your classes**! Let's see the following example:"
   ]
  },
  {
   "cell_type": "code",
   "execution_count": 9,
   "metadata": {},
   "outputs": [],
   "source": [
    "class DunderLeading():\n",
    "\n",
    "    def __init__(self, bmi: float, name: str):\n",
    "        self.bmi = bmi\n",
    "        self.name = name\n",
    "        self.__category = \"Susceptible\"\n",
    "        if self.bmi < 5:\n",
    "            self.__category = \"Normal\"\n",
    "\n",
    "    def cal_category(self):\n",
    "        print(self.__category)\n",
    "    \n",
    "    def update_category(self,new_category: str):\n",
    "        self.__category = new_category"
   ]
  },
  {
   "cell_type": "markdown",
   "metadata": {},
   "source": [
    "### Q: How do we update the category in this case?"
   ]
  },
  {
   "cell_type": "code",
   "execution_count": 18,
   "metadata": {},
   "outputs": [
    {
     "data": {
      "text/plain": [
       "'Susceptible'"
      ]
     },
     "execution_count": 18,
     "metadata": {},
     "output_type": "execute_result"
    }
   ],
   "source": [
    "class_ = DunderLeading(bmi=19, name=\"Leo\")\n",
    "class_._DunderLeading__category"
   ]
  },
  {
   "cell_type": "code",
   "execution_count": 21,
   "metadata": {},
   "outputs": [
    {
     "data": {
      "text/plain": [
       "2"
      ]
     },
     "execution_count": 21,
     "metadata": {},
     "output_type": "execute_result"
    }
   ],
   "source": [
    "[1,2]"
   ]
  },
  {
   "cell_type": "markdown",
   "metadata": {},
   "source": [
    "**The only proper way to call a dunder attribute (with leading underscore) is to use `instance._classname__attribute`!**"
   ]
  },
  {
   "cell_type": "markdown",
   "metadata": {},
   "source": [
    "- ### `__double_leadning_and_trailing_underscores`\n",
    "\n",
    "You should **never define your own dunder fucntions**. Althought, there are some built-in useful ones that you can (and should) use of needed. For example:\n",
    "\n",
    "- `__init__`: Instantiates a class\n",
    "- `__new__`: Creates a class (in the background, but we will bring it in the foreground as well)\n",
    "- `__dict__`: Creates a dictionary with all the object's attributes and/or methods.\n",
    "\n",
    "Let's take a look in one of the previously defined classes:"
   ]
  },
  {
   "cell_type": "code",
   "execution_count": 22,
   "metadata": {},
   "outputs": [
    {
     "data": {
      "text/plain": [
       "mappingproxy({'__module__': '__main__',\n",
       "              '__init__': <function __main__.DunderLeading.__init__(self, bmi: float, name: str)>,\n",
       "              'cal_category': <function __main__.DunderLeading.cal_category(self)>,\n",
       "              'update_category': <function __main__.DunderLeading.update_category(self, new_category: str)>,\n",
       "              '__dict__': <attribute '__dict__' of 'DunderLeading' objects>,\n",
       "              '__weakref__': <attribute '__weakref__' of 'DunderLeading' objects>,\n",
       "              '__doc__': None,\n",
       "              '__annotations__': {}})"
      ]
     },
     "execution_count": 22,
     "metadata": {},
     "output_type": "execute_result"
    }
   ],
   "source": [
    "DunderLeading.__dict__"
   ]
  },
  {
   "cell_type": "markdown",
   "metadata": {},
   "source": [
    "# `__init__` vs `__new__`: A new constructor in town"
   ]
  },
  {
   "cell_type": "markdown",
   "metadata": {},
   "source": [
    "When you create an instance of a class, Python first calls the `__new__()` method to create the object and then calls the `__init__()` method to initialize the object’s attributes.\n",
    "\n",
    "The `__new__()` is a method of the `object` class. It has the following structure:\n",
    "\n",
    "`object.__new__(class, *args, **kwargs)` (more on these later today)\n",
    "\n",
    "Let's see two example of Python's class mechanics; we define the `Person` class with the `name` attribute and create a *new instance* of the `Person` class like we have done before:\n"
   ]
  },
  {
   "cell_type": "code",
   "execution_count": 23,
   "metadata": {},
   "outputs": [],
   "source": [
    "class Person:\n",
    "    def __init__(self, name):\n",
    "        self.name = name\n",
    "\n",
    "\n",
    "person = Person('John')"
   ]
  },
  {
   "cell_type": "markdown",
   "metadata": {},
   "source": [
    "In Python, a class is callable. When you call the class to create a new object:\n",
    "\n",
    "`person = Person('John')`\n",
    "\n",
    "Python will call the `__new__()` and `__init__()` methods. It’s equivalent to the following method calls:"
   ]
  },
  {
   "cell_type": "code",
   "execution_count": 24,
   "metadata": {},
   "outputs": [],
   "source": [
    "person = object.__new__(Person, 'John')\n",
    "person.__init__('John')"
   ]
  },
  {
   "cell_type": "markdown",
   "metadata": {},
   "source": [
    "Let's check the `__dict__` attribute on this class before and after initializing:"
   ]
  },
  {
   "cell_type": "code",
   "execution_count": 25,
   "metadata": {},
   "outputs": [
    {
     "name": "stdout",
     "output_type": "stream",
     "text": [
      "{}\n",
      "{'name': 'John'}\n"
     ]
    }
   ],
   "source": [
    "person = object.__new__(Person, 'John')\n",
    "print(person.__dict__)\n",
    "\n",
    "person.__init__('John')\n",
    "print(person.__dict__)"
   ]
  },
  {
   "cell_type": "markdown",
   "metadata": {},
   "source": [
    "The follwoing example illustrates the sequence which Python calls the `__new__` and `__init__` method when you create a new object by calling the class:"
   ]
  },
  {
   "cell_type": "code",
   "execution_count": 26,
   "metadata": {},
   "outputs": [
    {
     "name": "stdout",
     "output_type": "stream",
     "text": [
      "Creating a new Person object...\n",
      "Initializing the person object...\n"
     ]
    }
   ],
   "source": [
    "class Person:\n",
    "    def __new__(cls, name):\n",
    "        print(f'Creating a new {cls.__name__} object...')\n",
    "        obj = object.__new__(cls)\n",
    "        return obj\n",
    "\n",
    "    def __init__(self, name):\n",
    "        print(f'Initializing the person object...')\n",
    "        self.name = name\n",
    "\n",
    "\n",
    "person = Person('John')"
   ]
  },
  {
   "cell_type": "markdown",
   "metadata": {},
   "source": [
    "**In practice, you use the `__new__()` method when you want to tweak the object at the instantiated time.**\n",
    "\n",
    "Typically, when you override the `__new__()` method, you don’t need to define the `__init__()` method because everything you can do in the `__init__()` method, you can do it in the `__new__()` method."
   ]
  },
  {
   "cell_type": "markdown",
   "metadata": {},
   "source": [
    "### Q: Let's create a `Person` class and use the `__new__`method to inject the full_name attribute to the `Person` object. It should take as an input the first and last name of the person."
   ]
  },
  {
   "cell_type": "code",
   "execution_count": 30,
   "metadata": {},
   "outputs": [
    {
     "name": "stdout",
     "output_type": "stream",
     "text": [
      "{'first_name': 'Leo', 'last_name': 'S', 'full_name': 'LeoS'}\n"
     ]
    }
   ],
   "source": [
    "class Person:\n",
    "    def __new__(cls, first_name, last_name):\n",
    "        obj = object.__new__(cls)\n",
    "        \n",
    "        obj.first_name = first_name\n",
    "        obj.last_name = last_name\n",
    "        obj.full_name = first_name + last_name\n",
    "        return obj\n",
    "\n",
    "person = Person(\"Leo\", \"S\")\n",
    "print(person.__dict__)"
   ]
  },
  {
   "cell_type": "markdown",
   "metadata": {},
   "source": [
    "# When the input is not that straighforward: `*args` and `**kargs`"
   ]
  },
  {
   "cell_type": "markdown",
   "metadata": {},
   "source": [
    "So far, we have encountered cases where the input (whether this is for a fucntion or a class) are known and have fixed length. Let's take the following example:"
   ]
  },
  {
   "cell_type": "code",
   "execution_count": null,
   "metadata": {},
   "outputs": [],
   "source": [
    "def sum_(x: Union[int, float], y: Union[int, float]):\n",
    "    return x + y"
   ]
  },
  {
   "cell_type": "markdown",
   "metadata": {},
   "source": [
    "### Q: What happens if we want to add an unkown amount of numbers?"
   ]
  },
  {
   "cell_type": "code",
   "execution_count": 38,
   "metadata": {},
   "outputs": [],
   "source": [
    "def sum_(list_: list[Union[int, float]]):\n",
    "    return sum(list_)"
   ]
  },
  {
   "cell_type": "markdown",
   "metadata": {},
   "source": [
    "That was an easy one, but what happens when we have an unkown number of lists? Oblviously, we can extend it to a list of lists, but we can do better! Or even think about the case that we might have no lists to parse at all!\n",
    "\n",
    "For this, and some more cases, Python has implemented two types of argumens: `*args` and `**kargs`.\n",
    "\n",
    "We can pass a variable number of arguments to a function using special symbols. There are two special symbols:\n",
    "\n",
    "- *args (Non Keyword Arguments)\n",
    "- **kwargs (Keyword Arguments)\n",
    "\n",
    "Let's tackle them indepenently.\n",
    "\n",
    "- ### *args (Non Keyword Arguments)\n",
    "\n",
    "Python has `*args` which allow us to pass the variable number of non keyword arguments to function.\n",
    "\n",
    "In the function, we should use an asterisk `*` before the parameter name to pass variable length arguments.The arguments are passed as a tuple and these passed arguments make tuple inside the function with same name as the parameter excluding asterisk `*`.\n",
    "\n",
    "### Q: How can we use the `*args` fucnctionality to create a fucntion that adds the numbers in an *unknown* number of lists?"
   ]
  },
  {
   "cell_type": "code",
   "execution_count": 35,
   "metadata": {},
   "outputs": [
    {
     "data": {
      "text/plain": [
       "12"
      ]
     },
     "execution_count": 35,
     "metadata": {},
     "output_type": "execute_result"
    }
   ],
   "source": [
    "def f(*args):\n",
    "    result = 0\n",
    "    for list_ in args:\n",
    "        result += sum(list_)\n",
    "    return result\n",
    "\n",
    "f([1,2,3], [1,2,3])"
   ]
  },
  {
   "cell_type": "code",
   "execution_count": 42,
   "metadata": {},
   "outputs": [
    {
     "data": {
      "text/plain": [
       "0"
      ]
     },
     "execution_count": 42,
     "metadata": {},
     "output_type": "execute_result"
    }
   ],
   "source": [
    "f()"
   ]
  },
  {
   "cell_type": "markdown",
   "metadata": {},
   "source": [
    "- ### **kargs\n",
    "\n",
    "But what if we want to pass keyword arguments? Python is having us covered with the `**kwargs` fucntionality.\n",
    "\n",
    "In the function, we use the double asterisk `**` before the parameter name to denote this type of argument. The arguments are passed as a dictionary and these arguments make a dictionary inside function with name same as the parameter excluding double asterisk `**`.\n",
    "\n",
    "### Q: Let's create an example together. Let's create a function that takes a **kwargs argument as input and prints its content as pairs."
   ]
  },
  {
   "cell_type": "code",
   "execution_count": 48,
   "metadata": {},
   "outputs": [
    {
     "name": "stdout",
     "output_type": "stream",
     "text": [
      "Firstname Leo\n",
      "Age 0\n"
     ]
    }
   ],
   "source": [
    "def f(**args):\n",
    "    for key, value in args.items():\n",
    "        print(key, value)\n",
    "\n",
    "#f([1,2,3], [1,2,3])\n",
    "f(Firstname= \"Leo\", Age=0)"
   ]
  },
  {
   "cell_type": "markdown",
   "metadata": {},
   "source": [
    "While `*args` and `**kwargs` are very handy and need minimal tuning, **they need to be used with caution**! As there is no way to use typings on the argument, there must be an internal way of checking the nature of the input (somehow, *if possible*)."
   ]
  },
  {
   "cell_type": "markdown",
   "metadata": {},
   "source": [
    "# Decorators: Adding extra functionality to functions\n",
    "\n",
    "A decorator is a design pattern in Python that allows a user to add new functionality to an existing object *without modifying its structure*. Decorators are usually called before the definition of a function you want to *decorate*.\n",
    "\n",
    "Decorators are mostly used in the OOP world (not exclusively though). As we can have different kind of fucntions in a class, decoarators hep us to differntiate between different kinds of fucntion. Let's see some examples:"
   ]
  },
  {
   "cell_type": "markdown",
   "metadata": {},
   "source": [
    " - ### @staticmethod\n",
    " \n",
    "A static method is a general utility method that performs a task in isolation. Static methods in Python are similar to those found in Java or C++. A static method **is bound to the class and not the object of the class**. Therefore, we can call it using the class name.\n",
    "\n",
    "A static method doesn’t have access to the class and instance variables because it does not receive an implicit first argument like `self` and `cls`. Therefore it cannot modify the state of the object or class. \n",
    "\n",
    "Let's see an example:"
   ]
  },
  {
   "cell_type": "code",
   "execution_count": 49,
   "metadata": {},
   "outputs": [
    {
     "name": "stdout",
     "output_type": "stream",
     "text": [
      "This is a useless message!\n"
     ]
    }
   ],
   "source": [
    "from typing import Any\n",
    "\n",
    "class Example:\n",
    "    \n",
    "    def __init__(self, attr1: Any, attr2: Any):\n",
    "        self.attr1 = attr1\n",
    "        self.attr2 = attr2\n",
    "        \n",
    "    @staticmethod\n",
    "    def pritnt_useless_message():\n",
    "        print(\"This is a useless message!\")\n",
    "\n",
    "instance = Example(\"bar\", \"foo\")\n",
    "instance.pritnt_useless_message()"
   ]
  },
  {
   "cell_type": "code",
   "execution_count": 3,
   "metadata": {},
   "outputs": [],
   "source": [
    "class Example():\n",
    "    def __new__(cls, input_: str):\n",
    "        if input_.endswith(\"txt\"):\n",
    "            pass\n",
    "        elif input_.endswith(\"json\"):\n",
    "            pass\n",
    "        else:\n",
    "            raise TypeError"
   ]
  },
  {
   "cell_type": "code",
   "execution_count": null,
   "metadata": {},
   "outputs": [],
   "source": []
  },
  {
   "cell_type": "markdown",
   "metadata": {},
   "source": [
    "- ### @classmethod\n",
    "\n",
    "A `@classmethod` is a method inside the class that **actually creates a class**. `@classmethods` take the `cls` argument instead of the `self`. This might be counter intuitive, but lets see an example:"
   ]
  },
  {
   "cell_type": "code",
   "execution_count": 9,
   "metadata": {},
   "outputs": [
    {
     "data": {
      "text/plain": [
       "'Scott'"
      ]
     },
     "execution_count": 9,
     "metadata": {},
     "output_type": "execute_result"
    }
   ],
   "source": [
    "class Student(object):\n",
    "    \n",
    "    def __init__(self, first_name:str, last_name: str) -> None:\n",
    "        self.first_name = first_name\n",
    "        self.last_name = last_name\n",
    "    \n",
    "    @classmethod\n",
    "    def from_json(cls, json) -> \"Student\":\n",
    "        jsfile = json.read(json)\n",
    "        first_name = jsfile[\"First Name\"]\n",
    "        last_name = jsfile[\"Last Name\"]\n",
    "        student = cls(first_name, last_name)\n",
    "        return student\n",
    "    \n",
    "    @classmethod\n",
    "    def from_string(cls, name_str: str) -> \"Student\":\n",
    "        first_name, last_name = map(str, name_str.split(' '))\n",
    "        student = cls(first_name, last_name)\n",
    "        return student\n",
    "\n",
    "scott = Student.from_string('Scott Robinson')\n",
    "scott.first_name"
   ]
  },
  {
   "cell_type": "markdown",
   "metadata": {},
   "source": [
    "### Q: This could be easily written using the traditional form of class creation. Can you think a case where this could be limiting in this setting?"
   ]
  },
  {
   "cell_type": "code",
   "execution_count": null,
   "metadata": {},
   "outputs": [],
   "source": []
  }
 ],
 "metadata": {
  "kernelspec": {
   "display_name": "Python 3 (ipykernel)",
   "language": "python",
   "name": "python3"
  },
  "language_info": {
   "codemirror_mode": {
    "name": "ipython",
    "version": 3
   },
   "file_extension": ".py",
   "mimetype": "text/x-python",
   "name": "python",
   "nbconvert_exporter": "python",
   "pygments_lexer": "ipython3",
   "version": "3.11.0"
  }
 },
 "nbformat": 4,
 "nbformat_minor": 2
}
