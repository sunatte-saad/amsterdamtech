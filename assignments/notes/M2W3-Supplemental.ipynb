{
 "cells": [
  {
   "cell_type": "markdown",
   "metadata": {},
   "source": [
    "# M2W3 -- Supplemental material\n",
    "\n",
    "In this week's workshop, we talked about the fundamendals of OOP. OOP has 3 fundamendal properties:\n",
    "\n",
    "- Inheritance\n",
    "- Encapluslation\n",
    "- **Polymprphism**\n",
    "\n",
    "In this notebook, we will discuss the *polymorphism* property; what it is and why is useful.\n",
    "\n",
    "Polymorphism is a very important concept in programming. It refers to the use of a single type entity (method, operator or object) to represent different types in different scenarios.\n",
    "\n",
    "Let's think of the following example:\n",
    "\n",
    "Getting as input the name and the age of an animal (either a cat or a dog) we want to return the sound that the animal makes and a string with the information given. We can wither do that by:\n",
    "\n",
    "- A fucntional recipe\n",
    "- An OOP recipe"
   ]
  },
  {
   "cell_type": "markdown",
   "metadata": {},
   "source": [
    "### Functional recipe"
   ]
  },
  {
   "cell_type": "code",
   "execution_count": 10,
   "metadata": {},
   "outputs": [
    {
     "name": "stdout",
     "output_type": "stream",
     "text": [
      "I am a dog. My name is Fluffy. I am 4 years old.\n",
      "I am a cat. My name is Dotty. I am 3 years old.\n",
      "Bark\n",
      "Meow\n"
     ]
    }
   ],
   "source": [
    "from typing import Literal\n",
    "\n",
    "# One function to return the info\n",
    "def info(animal: Literal['dog', 'cat'], age: int, name:str):\n",
    "    print(f\"I am a {animal}. My name is {name}. I am {age} years old.\")\n",
    "\n",
    "# Function to return \n",
    "def make_sound(animal: Literal['dog', 'cat']):\n",
    "    if animal == 'dog':\n",
    "        print(\"Bark\")\n",
    "    else:\n",
    "        print(\"Meow\")\n",
    "\n",
    "info(\"dog\", 4, \"Fluffy\")\n",
    "info(\"cat\", 3, \"Dotty\")\n",
    "\n",
    "make_sound(\"dog\")\n",
    "make_sound(\"cat\")"
   ]
  },
  {
   "cell_type": "markdown",
   "metadata": {},
   "source": [
    "### OOP recipe"
   ]
  },
  {
   "cell_type": "code",
   "execution_count": 11,
   "metadata": {},
   "outputs": [
    {
     "name": "stdout",
     "output_type": "stream",
     "text": [
      "I am a dog. My name is Fluffy. I am 4 years old.\n",
      "Bark\n",
      "I am a cat. My name is Dotty. I am 3 years old.\n",
      "Meow\n"
     ]
    }
   ],
   "source": [
    "# Let's forget the inheritance to focus on the polymorphism\n",
    "\n",
    "class Cat:\n",
    "    def __init__(self, name, age):\n",
    "        self.name = name\n",
    "        self.age = age\n",
    "\n",
    "    def info(self):\n",
    "        print(f\"I am a cat. My name is {self.name}. I am {self.age} years old.\")\n",
    "\n",
    "    def make_sound(self):\n",
    "        print(\"Meow\")\n",
    "\n",
    "\n",
    "class Dog:\n",
    "    def __init__(self, name, age):\n",
    "        self.name = name\n",
    "        self.age = age\n",
    "\n",
    "    def info(self):\n",
    "        print(f\"I am a dog. My name is {self.name}. I am {self.age} years old.\")\n",
    "\n",
    "    def make_sound(self):\n",
    "        print(\"Bark\")\n",
    "    \n",
    "dog = Dog(\"Fluffy\", 4)\n",
    "cat = Cat(\"Dotty\", 3)\n",
    "\n",
    "dog.info()\n",
    "dog.make_sound()\n",
    "cat.info()\n",
    "cat.make_sound()"
   ]
  },
  {
   "cell_type": "markdown",
   "metadata": {},
   "source": [
    "## Combining polymorphism and inheritance in OOP"
   ]
  },
  {
   "cell_type": "markdown",
   "metadata": {},
   "source": [
    "Like in other programming languages, the child classes in Python also inherit methods and attributes from the parent class. We can redefine certain methods and attributes specifically to fit the child class, which is known as **Method Overriding**.\n",
    "\n",
    "Polymorphism allows us to access these overridden methods and attributes that have the same name as the parent class.\n",
    "\n",
    "Lets see an example of inheritance and polymprhism combined (simila)"
   ]
  },
  {
   "cell_type": "code",
   "execution_count": 13,
   "metadata": {},
   "outputs": [
    {
     "name": "stdout",
     "output_type": "stream",
     "text": [
      "I am a two-dimensional shape.\n",
      "Squares have each angle equal to 90 degrees.\n",
      "153.93804002589985\n"
     ]
    }
   ],
   "source": [
    "from math import pi\n",
    "\n",
    "\n",
    "class Shape:\n",
    "    def __init__(self, name):\n",
    "        self.name = name\n",
    "\n",
    "    def area(self):\n",
    "        pass\n",
    "\n",
    "    def fact(self):\n",
    "        return \"I am a two-dimensional shape.\"\n",
    "\n",
    "\n",
    "class Square(Shape):\n",
    "    def __init__(self, length):\n",
    "        super().__init__(\"Square\")\n",
    "        self.length = length\n",
    "\n",
    "    def area(self):\n",
    "        return self.length**2\n",
    "\n",
    "    def fact(self):\n",
    "        return \"Squares have each angle equal to 90 degrees.\"\n",
    "\n",
    "\n",
    "class Circle(Shape):\n",
    "    def __init__(self, radius):\n",
    "        super().__init__(\"Circle\")\n",
    "        self.radius = radius\n",
    "\n",
    "    def area(self):\n",
    "        return pi*self.radius**2\n",
    "\n",
    "\n",
    "a = Square(4)\n",
    "b = Circle(7)\n",
    "print(b.fact())\n",
    "print(a.fact())\n",
    "print(b.area())\n"
   ]
  },
  {
   "cell_type": "code",
   "execution_count": null,
   "metadata": {},
   "outputs": [],
   "source": []
  }
 ],
 "metadata": {
  "kernelspec": {
   "display_name": "Python 3 (ipykernel)",
   "language": "python",
   "name": "python3"
  },
  "language_info": {
   "codemirror_mode": {
    "name": "ipython",
    "version": 3
   },
   "file_extension": ".py",
   "mimetype": "text/x-python",
   "name": "python",
   "nbconvert_exporter": "python",
   "pygments_lexer": "ipython3",
   "version": "3.11.0"
  }
 },
 "nbformat": 4,
 "nbformat_minor": 2
}
