{
 "cells": [
  {
   "cell_type": "code",
   "execution_count": null,
   "metadata": {},
   "outputs": [],
   "source": []
  },
  {
   "cell_type": "markdown",
   "metadata": {},
   "source": [
    "### Write a function that takes as input as iterrable of numbers and calculates the square root of that number if the number is positive otherwise return a string returning something else (something meaningful, I am leaving that to your imagination).  This function should return an iterable of numbers. Do not forget to add the appropriate typings and dockstrings to your function."
   ]
  },
  {
   "cell_type": "code",
   "execution_count": 1,
   "metadata": {},
   "outputs": [],
   "source": [
    "from typing import Union\n",
    "\n",
    "def square_rt (*args: float) -> Union[float, str]:\n",
    "    \"\"\"\n",
    "    Calculate the square root of a positive number or return a message for a non-positive number.\n",
    "\n",
    "    Parameters:\n",
    "    - *args (float): Variable arguments representing numbers.\n",
    "\n",
    "    Returns:\n",
    "    - Union[float, str]: The square root of the non-negative number or a message for a negative number.\n",
    "    \"\"\"\n",
    "    if not args:\n",
    "        return \"No numbers provided\"\n",
    "\n",
    "    result = []\n",
    "\n",
    "    for num in args:\n",
    "        if num >= 0:\n",
    "            result.append(num ** 0.5)  \n",
    "        else:\n",
    "            result.append(f\"Cannot calculate square root for negative number {num}\")\n",
    "\n",
    "    return result\n",
    "\n",
    "\n"
   ]
  },
  {
   "cell_type": "code",
   "execution_count": 2,
   "metadata": {},
   "outputs": [
    {
     "name": "stdout",
     "output_type": "stream",
     "text": [
      "[2.23606797749979, 2.0, 3.0, 5.0, 'Cannot calculate square root for negative number -1']\n"
     ]
    }
   ],
   "source": [
    "result = square_rt(5, 4, 9, 25, -1)\n",
    "print(result)"
   ]
  },
  {
   "cell_type": "markdown",
   "metadata": {},
   "source": [
    "### Rewrite the process calculated in Step 1 but using a lambda function instead. This implementation should be faster than the one described in Step 1."
   ]
  },
  {
   "cell_type": "code",
   "execution_count": 44,
   "metadata": {},
   "outputs": [],
   "source": [
    "from typing import Iterable, Union\n",
    "\n",
    "square_rt_lambda = lambda numbers: [(num ** 0.5) if num >= 0 else f\"Cannot calculate square root for negative number {num}\" for num in numbers]\n",
    "\n",
    "\n"
   ]
  },
  {
   "cell_type": "code",
   "execution_count": 45,
   "metadata": {},
   "outputs": [
    {
     "name": "stdout",
     "output_type": "stream",
     "text": [
      "[4.242640687119285, 3.0, 'Cannot calculate square root for negative number -3', 4.0, 'Cannot calculate square root for negative number -1']\n"
     ]
    }
   ],
   "source": [
    "numbers = [18, 9, -3, 16, -1]\n",
    "result = square_rt_lambda(numbers)\n",
    "print(result)\n"
   ]
  },
  {
   "cell_type": "markdown",
   "metadata": {},
   "source": [
    "### Calculate the time of execution for both implementations in Steps 1 and 2 . Remember to return the same iterable for both Steps 1 and 2."
   ]
  },
  {
   "cell_type": "code",
   "execution_count": 48,
   "metadata": {},
   "outputs": [
    {
     "name": "stdout",
     "output_type": "stream",
     "text": [
      "Execution Time: 0.837227 seconds\n"
     ]
    }
   ],
   "source": [
    "iterations = 1000000  \n",
    "\n",
    "execution_time = timeit.timeit(lambda: square_rt(4, 15,5,6), number=iterations)\n",
    "\n",
    "# Print the result\n",
    "print(f\"Execution Time: {execution_time:.6f} seconds\")"
   ]
  },
  {
   "cell_type": "code",
   "execution_count": 57,
   "metadata": {},
   "outputs": [
    {
     "name": "stdout",
     "output_type": "stream",
     "text": [
      "935 ns ± 38.9 ns per loop (mean ± std. dev. of 7 runs, 1,000,000 loops each)\n"
     ]
    }
   ],
   "source": [
    "%timeit -n 1000000 square_rt([4, 15,5,6])\n"
   ]
  },
  {
   "cell_type": "code",
   "execution_count": 56,
   "metadata": {},
   "outputs": [
    {
     "name": "stdout",
     "output_type": "stream",
     "text": [
      "927 ns ± 12.9 ns per loop (mean ± std. dev. of 7 runs, 1,000,000 loops each)\n"
     ]
    }
   ],
   "source": [
    "%timeit -n 1000000 square_rt_lambda([4, 15,5,6])\n"
   ]
  },
  {
   "cell_type": "markdown",
   "metadata": {},
   "source": [
    "### Save the output of Exercise 1, and then read the content of that file in your program. Apply either the function you wrote on the Step 1.1 or Step 1.2. What is the problem you are facing? (Give your answer in a comment block in your script)."
   ]
  },
  {
   "cell_type": "code",
   "execution_count": 65,
   "metadata": {},
   "outputs": [
    {
     "name": "stdout",
     "output_type": "stream",
     "text": [
      "[2.0, 3.872983346207417, 2.23606797749979, 2.449489742783178, 'Cannot calculate square root for negative number -2']\n"
     ]
    }
   ],
   "source": [
    "square_root_list=square_rt([4, 15,5,6,-2])\n",
    "print (square_root_list)"
   ]
  },
  {
   "cell_type": "code",
   "execution_count": 88,
   "metadata": {},
   "outputs": [],
   "source": [
    "with open('output.txt', \"w\") as file:\n",
    "    for item in square_root_list:\n",
    "        file.write(str(item) + \"\\n\")"
   ]
  },
  {
   "cell_type": "code",
   "execution_count": 95,
   "metadata": {},
   "outputs": [
    {
     "name": "stdout",
     "output_type": "stream",
     "text": [
      "['2.0', '3.872983346207417', '2.23606797749979', '2.449489742783178', 'Cannot calculate square root for negative number -2']\n"
     ]
    }
   ],
   "source": [
    "with open('output.txt', 'r') as file:\n",
    "   output_list = [line.strip() for line in file]\n",
    "\n",
    "print(output_list)"
   ]
  },
  {
   "cell_type": "markdown",
   "metadata": {},
   "source": []
  },
  {
   "cell_type": "markdown",
   "metadata": {},
   "source": []
  }
 ],
 "metadata": {
  "kernelspec": {
   "display_name": "Python 3",
   "language": "python",
   "name": "python3"
  },
  "language_info": {
   "codemirror_mode": {
    "name": "ipython",
    "version": 3
   },
   "file_extension": ".py",
   "mimetype": "text/x-python",
   "name": "python",
   "nbconvert_exporter": "python",
   "pygments_lexer": "ipython3",
   "version": "3.11.5"
  }
 },
 "nbformat": 4,
 "nbformat_minor": 2
}
