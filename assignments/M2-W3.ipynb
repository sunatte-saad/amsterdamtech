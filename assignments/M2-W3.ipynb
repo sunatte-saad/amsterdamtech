{
 "cells": [
  {
   "cell_type": "markdown",
   "metadata": {},
   "source": [
    "## M2 - W3 Assignment: Introduction to OOP\n"
   ]
  },
  {
   "cell_type": "markdown",
   "metadata": {},
   "source": [
    "1. Define a Book class with the following attributes: Title, Author (Full name), Price.\n",
    "2. Define a constructor used to initialize the attributes of the method with values entered by the user.\n",
    "3. Set the View() method to display information for the current book.\n",
    "4. Write a program to testing the Book class."
   ]
  },
  {
   "cell_type": "code",
   "execution_count": 2,
   "metadata": {},
   "outputs": [],
   "source": [
    "#defining Book class, initializing its attributes and then it has a view method to print out all the information\n",
    "class Book:\n",
    "    \"\"\"\n",
    "    A class representing a book with attributes such as title, author, and price.\n",
    "\n",
    "    Attributes:\n",
    "    - title (str): The title of the book.\n",
    "    - author (str): The full name of the author of the book.\n",
    "    - price (float): The price of the book.\n",
    "\n",
    "    Methods:\n",
    "    - __init__(self, title, author, price): Initializes a new instance of the Book class.\n",
    "    - view(self): Displays information about the current book, including title, author, and price.\n",
    "    \"\"\"\n",
    "    def __init__(self,title:str,author:str,price:float):\n",
    "        \"\"\"\n",
    "        Initializes a new instance of the Book class.\n",
    "\n",
    "        Parameters:\n",
    "        - title (str): The title of the book.\n",
    "        - author (str): The full name of the author of the book.\n",
    "        - price (float): The price of the book.\n",
    "        \"\"\"\n",
    "        self.title = title\n",
    "        self.author=author\n",
    "        self.price=price\n",
    "    def view(self):\n",
    "        \n",
    "        \"\"\"\n",
    "        Displays information about the current book.\n",
    "\n",
    "        Prints:\n",
    "        - Title: The title of the book.\n",
    "        - Author: The full name of the author.\n",
    "        - Price: The price of the book.\n",
    "        \"\"\"\n",
    "        print(f\"Title: {self.title}\")\n",
    "        print(f\"Author: {self.author}\")\n",
    "        print(f\"Price: $ {self.price}\")"
   ]
  },
  {
   "cell_type": "markdown",
   "metadata": {},
   "source": [
    "Test"
   ]
  },
  {
   "cell_type": "code",
   "execution_count": 3,
   "metadata": {},
   "outputs": [],
   "source": [
    "#creating objects using class Book\n",
    "book1=Book(\"Python for Beginners\",\"John Doe\",29.99)\n",
    "book2=Book(\"Learn Python in 10 minutes\",\"Jane Smith\",39.99)"
   ]
  },
  {
   "cell_type": "code",
   "execution_count": 4,
   "metadata": {},
   "outputs": [
    {
     "name": "stdout",
     "output_type": "stream",
     "text": [
      "Python for Beginners\n"
     ]
    }
   ],
   "source": [
    "print(book1.title)"
   ]
  },
  {
   "cell_type": "code",
   "execution_count": 5,
   "metadata": {},
   "outputs": [
    {
     "name": "stdout",
     "output_type": "stream",
     "text": [
      "Title: Python for Beginners\n",
      "Author: John Doe\n",
      "Price: $ 29.99\n"
     ]
    }
   ],
   "source": [
    "book1.view()"
   ]
  },
  {
   "cell_type": "code",
   "execution_count": null,
   "metadata": {},
   "outputs": [],
   "source": []
  },
  {
   "cell_type": "markdown",
   "metadata": {},
   "source": [
    "Write a class of “Person”, which is the parent class of Lecturer and Student. The Student and Lectures classes inherit from the Person class. In this class, the instance attributes should be number of legs, which should be initialised 2 and a boolean variable - is_alive, that should be initialised as True. \n",
    "Write a class 'Student' which stores information about a student. The class must have the following instance attributes controlled by the user: Name, Grade, Number.\n",
    "Write a class which stores information about a “Lecturer”. The class must have the following instance attributes, also controlled by the user: Name, NumberIn Step 2 and Step 3, both object should inherit the instance attributes from the Person object. "
   ]
  },
  {
   "cell_type": "code",
   "execution_count": 2,
   "metadata": {},
   "outputs": [],
   "source": [
    "\n",
    "class Person:\n",
    "    \"\"\"\n",
    "    This is the base class for all people.\n",
    "    It has two attributes: number_of_legs and is_alive.\n",
    "    \"\"\"\n",
    "    def __init__(self) -> None:\n",
    "        self.number_of_legs = 2\n",
    "        self.is_alive = True\n",
    "\n",
    "class Student(Person):\n",
    "    \"\"\"\n",
    "    This class represents a student.\n",
    "    It has three attributes: name, grade, and number.\n",
    "    \"\"\"\n",
    "    def __init__(self, name: str, grade: int, number: int) -> None:\n",
    "        super().__init__()\n",
    "        self.name = name\n",
    "        self.grade = grade\n",
    "        self.number = number\n",
    "\n",
    "class Lecturer(Person):\n",
    "    \"\"\"\n",
    "    This class represents a lecturer.\n",
    "    It has three attributes: name, number_1, and number_2.\n",
    "    \"\"\"\n",
    "    def __init__(self, name: str, number_1, number_2: int) -> None:\n",
    "        super().__init__()\n",
    "        self.name = name\n",
    "        self.number_1 = number_1\n",
    "        self.number_2 = number_2\n",
    "\n",
    "    \n",
    "    "
   ]
  },
  {
   "cell_type": "code",
   "execution_count": 7,
   "metadata": {},
   "outputs": [
    {
     "name": "stdout",
     "output_type": "stream",
     "text": [
      "True\n"
     ]
    }
   ],
   "source": [
    "mad=Student(\"saad\",1,2)\n",
    "print(mad.is_alive)"
   ]
  },
  {
   "cell_type": "code",
   "execution_count": null,
   "metadata": {},
   "outputs": [],
   "source": []
  }
 ],
 "metadata": {
  "kernelspec": {
   "display_name": "Python 3",
   "language": "python",
   "name": "python3"
  },
  "language_info": {
   "codemirror_mode": {
    "name": "ipython",
    "version": 3
   },
   "file_extension": ".py",
   "mimetype": "text/x-python",
   "name": "python",
   "nbconvert_exporter": "python",
   "pygments_lexer": "ipython3",
   "version": "3.11.5"
  }
 },
 "nbformat": 4,
 "nbformat_minor": 2
}
