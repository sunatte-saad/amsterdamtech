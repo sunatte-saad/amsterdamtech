{
 "cells": [
  {
   "cell_type": "markdown",
   "id": "d7afda37",
   "metadata": {},
   "source": [
    "# Electric Vehicals Data Set"
   ]
  },
  {
   "cell_type": "markdown",
   "id": "9c152374",
   "metadata": {},
   "source": []
  },
  {
   "cell_type": "markdown",
   "id": "fc4bae6f",
   "metadata": {},
   "source": [
    "## Problem Statement :\n",
    " ### At what geographical locations are EVs most popular?\n",
    " ### Potential Charging Points on the maps?\n",
    " ### What models and makes are most popular among poeple?"
   ]
  },
  {
   "cell_type": "markdown",
   "id": "4d373ba3",
   "metadata": {},
   "source": [
    "## Summary\n",
    "### Based on the above exploration of data ,we can conclude that Tesla is the most famous brand among poeple and its models also has the highest EV range. Also, based on the data related to counties , we can estimate where to put EV points, however the data lacks existing EV points location. This data could be handy if we want to plan future EV points.\n",
    "### Also the use of EV cars has significantly increased in the recent years, this data could be useful who just wants to step in the business. Whereas TESLA could be a benchmark to compete with"
   ]
  },
  {
   "cell_type": "markdown",
   "id": "9937cec3",
   "metadata": {},
   "source": [
    "We have a electric vehicals dataset, we will be first explore the data set and then visualize it using matplotlib and plotly.\n",
    "First, we will import necessary libraries and read the csv file containing our data set using read_csv method from pandas"
   ]
  },
  {
   "cell_type": "code",
   "execution_count": 31,
   "id": "262f8750",
   "metadata": {
    "execution": {
     "iopub.execute_input": "2024-01-31T14:06:42.558336Z",
     "iopub.status.busy": "2024-01-31T14:06:42.557351Z",
     "iopub.status.idle": "2024-01-31T14:06:44.106240Z",
     "shell.execute_reply": "2024-01-31T14:06:44.105342Z"
    },
    "papermill": {
     "duration": 1.557605,
     "end_time": "2024-01-31T14:06:44.108445",
     "exception": false,
     "start_time": "2024-01-31T14:06:42.550840",
     "status": "completed"
    },
    "tags": []
   },
   "outputs": [
    {
     "data": {
      "text/html": [
       "<div>\n",
       "<style scoped>\n",
       "    .dataframe tbody tr th:only-of-type {\n",
       "        vertical-align: middle;\n",
       "    }\n",
       "\n",
       "    .dataframe tbody tr th {\n",
       "        vertical-align: top;\n",
       "    }\n",
       "\n",
       "    .dataframe thead th {\n",
       "        text-align: right;\n",
       "    }\n",
       "</style>\n",
       "<table border=\"1\" class=\"dataframe\">\n",
       "  <thead>\n",
       "    <tr style=\"text-align: right;\">\n",
       "      <th></th>\n",
       "      <th>VIN (1-10)</th>\n",
       "      <th>County</th>\n",
       "      <th>City</th>\n",
       "      <th>State</th>\n",
       "      <th>Postal Code</th>\n",
       "      <th>Model Year</th>\n",
       "      <th>Make</th>\n",
       "      <th>Model</th>\n",
       "      <th>Electric Vehicle Type</th>\n",
       "      <th>Clean Alternative Fuel Vehicle (CAFV) Eligibility</th>\n",
       "      <th>Electric Range</th>\n",
       "      <th>Base MSRP</th>\n",
       "      <th>Legislative District</th>\n",
       "      <th>DOL Vehicle ID</th>\n",
       "      <th>Vehicle Location</th>\n",
       "      <th>Electric Utility</th>\n",
       "      <th>2020 Census Tract</th>\n",
       "    </tr>\n",
       "  </thead>\n",
       "  <tbody>\n",
       "    <tr>\n",
       "      <th>0</th>\n",
       "      <td>3C3CFFGE4E</td>\n",
       "      <td>Yakima</td>\n",
       "      <td>Yakima</td>\n",
       "      <td>WA</td>\n",
       "      <td>98902.0</td>\n",
       "      <td>2014</td>\n",
       "      <td>FIAT</td>\n",
       "      <td>500</td>\n",
       "      <td>Battery Electric Vehicle (BEV)</td>\n",
       "      <td>Clean Alternative Fuel Vehicle Eligible</td>\n",
       "      <td>87</td>\n",
       "      <td>0</td>\n",
       "      <td>14.0</td>\n",
       "      <td>1593721</td>\n",
       "      <td>POINT (-120.524012 46.5973939)</td>\n",
       "      <td>PACIFICORP</td>\n",
       "      <td>5.307700e+10</td>\n",
       "    </tr>\n",
       "    <tr>\n",
       "      <th>1</th>\n",
       "      <td>5YJXCBE40H</td>\n",
       "      <td>Thurston</td>\n",
       "      <td>Olympia</td>\n",
       "      <td>WA</td>\n",
       "      <td>98513.0</td>\n",
       "      <td>2017</td>\n",
       "      <td>TESLA</td>\n",
       "      <td>MODEL X</td>\n",
       "      <td>Battery Electric Vehicle (BEV)</td>\n",
       "      <td>Clean Alternative Fuel Vehicle Eligible</td>\n",
       "      <td>200</td>\n",
       "      <td>0</td>\n",
       "      <td>2.0</td>\n",
       "      <td>257167501</td>\n",
       "      <td>POINT (-122.817545 46.98876)</td>\n",
       "      <td>PUGET SOUND ENERGY INC</td>\n",
       "      <td>5.306701e+10</td>\n",
       "    </tr>\n",
       "    <tr>\n",
       "      <th>2</th>\n",
       "      <td>3MW39FS03P</td>\n",
       "      <td>King</td>\n",
       "      <td>Renton</td>\n",
       "      <td>WA</td>\n",
       "      <td>98058.0</td>\n",
       "      <td>2023</td>\n",
       "      <td>BMW</td>\n",
       "      <td>330E</td>\n",
       "      <td>Plug-in Hybrid Electric Vehicle (PHEV)</td>\n",
       "      <td>Not eligible due to low battery range</td>\n",
       "      <td>20</td>\n",
       "      <td>0</td>\n",
       "      <td>11.0</td>\n",
       "      <td>224071816</td>\n",
       "      <td>POINT (-122.1298876 47.4451257)</td>\n",
       "      <td>PUGET SOUND ENERGY INC||CITY OF TACOMA - (WA)</td>\n",
       "      <td>5.303303e+10</td>\n",
       "    </tr>\n",
       "    <tr>\n",
       "      <th>3</th>\n",
       "      <td>7PDSGABA8P</td>\n",
       "      <td>Snohomish</td>\n",
       "      <td>Bothell</td>\n",
       "      <td>WA</td>\n",
       "      <td>98012.0</td>\n",
       "      <td>2023</td>\n",
       "      <td>RIVIAN</td>\n",
       "      <td>R1S</td>\n",
       "      <td>Battery Electric Vehicle (BEV)</td>\n",
       "      <td>Eligibility unknown as battery range has not b...</td>\n",
       "      <td>0</td>\n",
       "      <td>0</td>\n",
       "      <td>21.0</td>\n",
       "      <td>260084653</td>\n",
       "      <td>POINT (-122.1873 47.820245)</td>\n",
       "      <td>PUGET SOUND ENERGY INC</td>\n",
       "      <td>5.306105e+10</td>\n",
       "    </tr>\n",
       "    <tr>\n",
       "      <th>4</th>\n",
       "      <td>5YJ3E1EB8L</td>\n",
       "      <td>King</td>\n",
       "      <td>Kent</td>\n",
       "      <td>WA</td>\n",
       "      <td>98031.0</td>\n",
       "      <td>2020</td>\n",
       "      <td>TESLA</td>\n",
       "      <td>MODEL 3</td>\n",
       "      <td>Battery Electric Vehicle (BEV)</td>\n",
       "      <td>Clean Alternative Fuel Vehicle Eligible</td>\n",
       "      <td>322</td>\n",
       "      <td>0</td>\n",
       "      <td>33.0</td>\n",
       "      <td>253771913</td>\n",
       "      <td>POINT (-122.2012521 47.3931814)</td>\n",
       "      <td>PUGET SOUND ENERGY INC||CITY OF TACOMA - (WA)</td>\n",
       "      <td>5.303303e+10</td>\n",
       "    </tr>\n",
       "  </tbody>\n",
       "</table>\n",
       "</div>"
      ],
      "text/plain": [
       "   VIN (1-10)     County     City State  Postal Code  Model Year    Make  \\\n",
       "0  3C3CFFGE4E     Yakima   Yakima    WA      98902.0        2014    FIAT   \n",
       "1  5YJXCBE40H   Thurston  Olympia    WA      98513.0        2017   TESLA   \n",
       "2  3MW39FS03P       King   Renton    WA      98058.0        2023     BMW   \n",
       "3  7PDSGABA8P  Snohomish  Bothell    WA      98012.0        2023  RIVIAN   \n",
       "4  5YJ3E1EB8L       King     Kent    WA      98031.0        2020   TESLA   \n",
       "\n",
       "     Model                   Electric Vehicle Type  \\\n",
       "0      500          Battery Electric Vehicle (BEV)   \n",
       "1  MODEL X          Battery Electric Vehicle (BEV)   \n",
       "2     330E  Plug-in Hybrid Electric Vehicle (PHEV)   \n",
       "3      R1S          Battery Electric Vehicle (BEV)   \n",
       "4  MODEL 3          Battery Electric Vehicle (BEV)   \n",
       "\n",
       "   Clean Alternative Fuel Vehicle (CAFV) Eligibility  Electric Range  \\\n",
       "0            Clean Alternative Fuel Vehicle Eligible              87   \n",
       "1            Clean Alternative Fuel Vehicle Eligible             200   \n",
       "2              Not eligible due to low battery range              20   \n",
       "3  Eligibility unknown as battery range has not b...               0   \n",
       "4            Clean Alternative Fuel Vehicle Eligible             322   \n",
       "\n",
       "   Base MSRP  Legislative District  DOL Vehicle ID  \\\n",
       "0          0                  14.0         1593721   \n",
       "1          0                   2.0       257167501   \n",
       "2          0                  11.0       224071816   \n",
       "3          0                  21.0       260084653   \n",
       "4          0                  33.0       253771913   \n",
       "\n",
       "                  Vehicle Location  \\\n",
       "0   POINT (-120.524012 46.5973939)   \n",
       "1     POINT (-122.817545 46.98876)   \n",
       "2  POINT (-122.1298876 47.4451257)   \n",
       "3      POINT (-122.1873 47.820245)   \n",
       "4  POINT (-122.2012521 47.3931814)   \n",
       "\n",
       "                                Electric Utility  2020 Census Tract  \n",
       "0                                     PACIFICORP       5.307700e+10  \n",
       "1                         PUGET SOUND ENERGY INC       5.306701e+10  \n",
       "2  PUGET SOUND ENERGY INC||CITY OF TACOMA - (WA)       5.303303e+10  \n",
       "3                         PUGET SOUND ENERGY INC       5.306105e+10  \n",
       "4  PUGET SOUND ENERGY INC||CITY OF TACOMA - (WA)       5.303303e+10  "
      ]
     },
     "execution_count": 31,
     "metadata": {},
     "output_type": "execute_result"
    }
   ],
   "source": [
    "import pandas as pd\n",
    "import matplotlib.pyplot as plt\n",
    "import plotly.express as px\n",
    "df=pd.read_csv('Electric_Vehicle_Population_Data.csv')\n",
    "df.head()"
   ]
  },
  {
   "cell_type": "markdown",
   "id": "9778a9a9",
   "metadata": {
    "papermill": {
     "duration": 0.005634,
     "end_time": "2024-01-31T14:06:44.120007",
     "exception": false,
     "start_time": "2024-01-31T14:06:44.114373",
     "status": "completed"
    },
    "tags": []
   },
   "source": [
    "### Inspecting the dataset"
   ]
  },
  {
   "cell_type": "code",
   "execution_count": 32,
   "id": "eee63f08",
   "metadata": {
    "execution": {
     "iopub.execute_input": "2024-01-31T14:06:44.132951Z",
     "iopub.status.busy": "2024-01-31T14:06:44.132591Z",
     "iopub.status.idle": "2024-01-31T14:06:44.138545Z",
     "shell.execute_reply": "2024-01-31T14:06:44.137669Z"
    },
    "papermill": {
     "duration": 0.014931,
     "end_time": "2024-01-31T14:06:44.140595",
     "exception": false,
     "start_time": "2024-01-31T14:06:44.125664",
     "status": "completed"
    },
    "tags": []
   },
   "outputs": [
    {
     "data": {
      "text/plain": [
       "(166800, 17)"
      ]
     },
     "execution_count": 32,
     "metadata": {},
     "output_type": "execute_result"
    }
   ],
   "source": [
    "\n",
    "df.shape"
   ]
  },
  {
   "cell_type": "code",
   "execution_count": 33,
   "id": "a587f7b0",
   "metadata": {},
   "outputs": [
    {
     "name": "stdout",
     "output_type": "stream",
     "text": [
      "Our data set has 166800 rows and 17 columns\n"
     ]
    }
   ],
   "source": [
    "print(f'Our data set has {df.shape[0]} rows and {df.shape[1]} columns')"
   ]
  },
  {
   "cell_type": "markdown",
   "id": "283ce6b0",
   "metadata": {},
   "source": [
    "Lets check for null values"
   ]
  },
  {
   "cell_type": "code",
   "execution_count": 35,
   "id": "f78aa9df",
   "metadata": {
    "execution": {
     "iopub.execute_input": "2024-01-31T14:06:44.280456Z",
     "iopub.status.busy": "2024-01-31T14:06:44.279738Z",
     "iopub.status.idle": "2024-01-31T14:06:44.438618Z",
     "shell.execute_reply": "2024-01-31T14:06:44.437653Z"
    },
    "papermill": {
     "duration": 0.168404,
     "end_time": "2024-01-31T14:06:44.440795",
     "exception": false,
     "start_time": "2024-01-31T14:06:44.272391",
     "status": "completed"
    },
    "tags": []
   },
   "outputs": [
    {
     "data": {
      "text/plain": [
       "VIN (1-10)                                             0\n",
       "County                                                 5\n",
       "City                                                   5\n",
       "State                                                  0\n",
       "Postal Code                                            5\n",
       "Model Year                                             0\n",
       "Make                                                   0\n",
       "Model                                                  0\n",
       "Electric Vehicle Type                                  0\n",
       "Clean Alternative Fuel Vehicle (CAFV) Eligibility      0\n",
       "Electric Range                                         0\n",
       "Base MSRP                                              0\n",
       "Legislative District                                 360\n",
       "DOL Vehicle ID                                         0\n",
       "Vehicle Location                                      10\n",
       "Electric Utility                                       5\n",
       "2020 Census Tract                                      5\n",
       "dtype: int64"
      ]
     },
     "execution_count": 35,
     "metadata": {},
     "output_type": "execute_result"
    }
   ],
   "source": [
    "df.isna().sum()"
   ]
  },
  {
   "cell_type": "markdown",
   "id": "dff00cfd",
   "metadata": {
    "papermill": {
     "duration": 0.006969,
     "end_time": "2024-01-31T14:06:45.053120",
     "exception": false,
     "start_time": "2024-01-31T14:06:45.046151",
     "status": "completed"
    },
    "tags": []
   },
   "source": [
    "# cleaning the dataset"
   ]
  },
  {
   "cell_type": "code",
   "execution_count": 36,
   "id": "3aecb8ef",
   "metadata": {
    "execution": {
     "iopub.execute_input": "2024-01-31T14:06:45.069972Z",
     "iopub.status.busy": "2024-01-31T14:06:45.069624Z",
     "iopub.status.idle": "2024-01-31T14:06:45.297387Z",
     "shell.execute_reply": "2024-01-31T14:06:45.296260Z"
    },
    "papermill": {
     "duration": 0.240362,
     "end_time": "2024-01-31T14:06:45.300616",
     "exception": false,
     "start_time": "2024-01-31T14:06:45.060254",
     "status": "completed"
    },
    "tags": []
   },
   "outputs": [
    {
     "data": {
      "text/plain": [
       "(166435, 17)"
      ]
     },
     "execution_count": 36,
     "metadata": {},
     "output_type": "execute_result"
    }
   ],
   "source": [
    "df.dropna(inplace=True)\n",
    "df.shape\n"
   ]
  },
  {
   "cell_type": "code",
   "execution_count": 37,
   "id": "2628451b",
   "metadata": {},
   "outputs": [
    {
     "name": "stdout",
     "output_type": "stream",
     "text": [
      "we have dropped 445 rows and 1 columns\n"
     ]
    }
   ],
   "source": [
    "print (f'we have dropped {166880-df.shape[0]} rows and {18-df.shape[1]} columns')"
   ]
  },
  {
   "cell_type": "code",
   "execution_count": 38,
   "id": "0b137705",
   "metadata": {
    "execution": {
     "iopub.execute_input": "2024-01-31T14:06:45.324085Z",
     "iopub.status.busy": "2024-01-31T14:06:45.323274Z",
     "iopub.status.idle": "2024-01-31T14:06:45.504067Z",
     "shell.execute_reply": "2024-01-31T14:06:45.503022Z"
    },
    "papermill": {
     "duration": 0.19355,
     "end_time": "2024-01-31T14:06:45.506461",
     "exception": false,
     "start_time": "2024-01-31T14:06:45.312911",
     "status": "completed"
    },
    "tags": []
   },
   "outputs": [
    {
     "data": {
      "text/plain": [
       "VIN (1-10)                                           0\n",
       "County                                               0\n",
       "City                                                 0\n",
       "State                                                0\n",
       "Postal Code                                          0\n",
       "Model Year                                           0\n",
       "Make                                                 0\n",
       "Model                                                0\n",
       "Electric Vehicle Type                                0\n",
       "Clean Alternative Fuel Vehicle (CAFV) Eligibility    0\n",
       "Electric Range                                       0\n",
       "Base MSRP                                            0\n",
       "Legislative District                                 0\n",
       "DOL Vehicle ID                                       0\n",
       "Vehicle Location                                     0\n",
       "Electric Utility                                     0\n",
       "2020 Census Tract                                    0\n",
       "dtype: int64"
      ]
     },
     "execution_count": 38,
     "metadata": {},
     "output_type": "execute_result"
    }
   ],
   "source": [
    "#lets check again to see if there are any null values left\n",
    "df.isna().sum()"
   ]
  },
  {
   "cell_type": "code",
   "execution_count": 39,
   "id": "b9f5efab",
   "metadata": {},
   "outputs": [
    {
     "data": {
      "text/html": [
       "<div>\n",
       "<style scoped>\n",
       "    .dataframe tbody tr th:only-of-type {\n",
       "        vertical-align: middle;\n",
       "    }\n",
       "\n",
       "    .dataframe tbody tr th {\n",
       "        vertical-align: top;\n",
       "    }\n",
       "\n",
       "    .dataframe thead th {\n",
       "        text-align: right;\n",
       "    }\n",
       "</style>\n",
       "<table border=\"1\" class=\"dataframe\">\n",
       "  <thead>\n",
       "    <tr style=\"text-align: right;\">\n",
       "      <th></th>\n",
       "      <th>Postal Code</th>\n",
       "      <th>Model Year</th>\n",
       "      <th>Electric Range</th>\n",
       "      <th>Base MSRP</th>\n",
       "      <th>Legislative District</th>\n",
       "      <th>DOL Vehicle ID</th>\n",
       "      <th>2020 Census Tract</th>\n",
       "    </tr>\n",
       "  </thead>\n",
       "  <tbody>\n",
       "    <tr>\n",
       "      <th>count</th>\n",
       "      <td>166435.000000</td>\n",
       "      <td>166435.000000</td>\n",
       "      <td>166435.000000</td>\n",
       "      <td>166435.000000</td>\n",
       "      <td>166435.000000</td>\n",
       "      <td>1.664350e+05</td>\n",
       "      <td>1.664350e+05</td>\n",
       "    </tr>\n",
       "    <tr>\n",
       "      <th>mean</th>\n",
       "      <td>98261.118659</td>\n",
       "      <td>2020.343564</td>\n",
       "      <td>61.496861</td>\n",
       "      <td>1149.906510</td>\n",
       "      <td>29.179247</td>\n",
       "      <td>2.172652e+08</td>\n",
       "      <td>5.303982e+10</td>\n",
       "    </tr>\n",
       "    <tr>\n",
       "      <th>std</th>\n",
       "      <td>304.149327</td>\n",
       "      <td>3.001137</td>\n",
       "      <td>93.270217</td>\n",
       "      <td>8648.905282</td>\n",
       "      <td>14.853652</td>\n",
       "      <td>7.727789e+07</td>\n",
       "      <td>1.623324e+07</td>\n",
       "    </tr>\n",
       "    <tr>\n",
       "      <th>min</th>\n",
       "      <td>98001.000000</td>\n",
       "      <td>1997.000000</td>\n",
       "      <td>0.000000</td>\n",
       "      <td>0.000000</td>\n",
       "      <td>1.000000</td>\n",
       "      <td>4.385000e+03</td>\n",
       "      <td>5.300195e+10</td>\n",
       "    </tr>\n",
       "    <tr>\n",
       "      <th>25%</th>\n",
       "      <td>98052.000000</td>\n",
       "      <td>2018.000000</td>\n",
       "      <td>0.000000</td>\n",
       "      <td>0.000000</td>\n",
       "      <td>18.000000</td>\n",
       "      <td>1.790872e+08</td>\n",
       "      <td>5.303301e+10</td>\n",
       "    </tr>\n",
       "    <tr>\n",
       "      <th>50%</th>\n",
       "      <td>98122.000000</td>\n",
       "      <td>2021.000000</td>\n",
       "      <td>0.000000</td>\n",
       "      <td>0.000000</td>\n",
       "      <td>33.000000</td>\n",
       "      <td>2.244239e+08</td>\n",
       "      <td>5.303303e+10</td>\n",
       "    </tr>\n",
       "    <tr>\n",
       "      <th>75%</th>\n",
       "      <td>98371.000000</td>\n",
       "      <td>2023.000000</td>\n",
       "      <td>84.000000</td>\n",
       "      <td>0.000000</td>\n",
       "      <td>42.000000</td>\n",
       "      <td>2.513457e+08</td>\n",
       "      <td>5.305307e+10</td>\n",
       "    </tr>\n",
       "    <tr>\n",
       "      <th>max</th>\n",
       "      <td>99403.000000</td>\n",
       "      <td>2024.000000</td>\n",
       "      <td>337.000000</td>\n",
       "      <td>845000.000000</td>\n",
       "      <td>49.000000</td>\n",
       "      <td>4.792548e+08</td>\n",
       "      <td>5.307794e+10</td>\n",
       "    </tr>\n",
       "  </tbody>\n",
       "</table>\n",
       "</div>"
      ],
      "text/plain": [
       "         Postal Code     Model Year  Electric Range      Base MSRP  \\\n",
       "count  166435.000000  166435.000000   166435.000000  166435.000000   \n",
       "mean    98261.118659    2020.343564       61.496861    1149.906510   \n",
       "std       304.149327       3.001137       93.270217    8648.905282   \n",
       "min     98001.000000    1997.000000        0.000000       0.000000   \n",
       "25%     98052.000000    2018.000000        0.000000       0.000000   \n",
       "50%     98122.000000    2021.000000        0.000000       0.000000   \n",
       "75%     98371.000000    2023.000000       84.000000       0.000000   \n",
       "max     99403.000000    2024.000000      337.000000  845000.000000   \n",
       "\n",
       "       Legislative District  DOL Vehicle ID  2020 Census Tract  \n",
       "count         166435.000000    1.664350e+05       1.664350e+05  \n",
       "mean              29.179247    2.172652e+08       5.303982e+10  \n",
       "std               14.853652    7.727789e+07       1.623324e+07  \n",
       "min                1.000000    4.385000e+03       5.300195e+10  \n",
       "25%               18.000000    1.790872e+08       5.303301e+10  \n",
       "50%               33.000000    2.244239e+08       5.303303e+10  \n",
       "75%               42.000000    2.513457e+08       5.305307e+10  \n",
       "max               49.000000    4.792548e+08       5.307794e+10  "
      ]
     },
     "execution_count": 39,
     "metadata": {},
     "output_type": "execute_result"
    }
   ],
   "source": [
    "#lets check statistics of the data\n",
    "df.describe()"
   ]
  },
  {
   "cell_type": "markdown",
   "id": "959566f3",
   "metadata": {
    "papermill": {
     "duration": 0.007843,
     "end_time": "2024-01-31T14:06:45.522693",
     "exception": false,
     "start_time": "2024-01-31T14:06:45.514850",
     "status": "completed"
    },
    "tags": []
   },
   "source": [
    "# more exploratory data analysis"
   ]
  },
  {
   "cell_type": "code",
   "execution_count": 40,
   "id": "0bd384ba",
   "metadata": {
    "execution": {
     "iopub.execute_input": "2024-01-31T14:06:45.541104Z",
     "iopub.status.busy": "2024-01-31T14:06:45.540520Z",
     "iopub.status.idle": "2024-01-31T14:06:45.569857Z",
     "shell.execute_reply": "2024-01-31T14:06:45.568837Z"
    },
    "papermill": {
     "duration": 0.041091,
     "end_time": "2024-01-31T14:06:45.572269",
     "exception": false,
     "start_time": "2024-01-31T14:06:45.531178",
     "status": "completed"
    },
    "tags": []
   },
   "outputs": [
    {
     "data": {
      "text/plain": [
       "Make\n",
       "TESLA                   74661\n",
       "NISSAN                  13835\n",
       "CHEVROLET               13046\n",
       "FORD                     8557\n",
       "BMW                      7181\n",
       "KIA                      6984\n",
       "TOYOTA                   5780\n",
       "VOLKSWAGEN               4706\n",
       "JEEP                     4090\n",
       "HYUNDAI                  4049\n",
       "VOLVO                    3954\n",
       "RIVIAN                   3550\n",
       "AUDI                     3456\n",
       "CHRYSLER                 2865\n",
       "MERCEDES-BENZ            1341\n",
       "PORSCHE                  1096\n",
       "MITSUBISHI                940\n",
       "MINI                      854\n",
       "POLESTAR                  852\n",
       "HONDA                     819\n",
       "FIAT                      801\n",
       "SUBARU                    787\n",
       "MAZDA                     384\n",
       "LEXUS                     307\n",
       "SMART                     275\n",
       "LINCOLN                   253\n",
       "CADILLAC                  243\n",
       "LUCID                     231\n",
       "JAGUAR                    221\n",
       "GENESIS                   160\n",
       "LAND ROVER                 52\n",
       "ALFA ROMEO                 29\n",
       "DODGE                      28\n",
       "FISKER                     27\n",
       "AZURE DYNAMICS              8\n",
       "TH!NK                       5\n",
       "BENTLEY                     3\n",
       "WHEEGO ELECTRIC CARS        3\n",
       "GMC                         2\n",
       "Name: count, dtype: int64"
      ]
     },
     "execution_count": 40,
     "metadata": {},
     "output_type": "execute_result"
    }
   ],
   "source": [
    "#checking the count of vehicals based on brand name\n",
    "df.value_counts('Make')"
   ]
  },
  {
   "cell_type": "markdown",
   "id": "b2bccdd6",
   "metadata": {},
   "source": [
    "# Visualizing the dataset"
   ]
  },
  {
   "cell_type": "code",
   "execution_count": 27,
   "id": "33a2c4b7",
   "metadata": {},
   "outputs": [
    {
     "data": {
      "text/plain": [
       "Make\n",
       "TESLA                   74661\n",
       "NISSAN                  13835\n",
       "CHEVROLET               13046\n",
       "FORD                     8557\n",
       "BMW                      7181\n",
       "KIA                      6984\n",
       "TOYOTA                   5780\n",
       "VOLKSWAGEN               4706\n",
       "JEEP                     4090\n",
       "HYUNDAI                  4049\n",
       "VOLVO                    3954\n",
       "RIVIAN                   3550\n",
       "AUDI                     3456\n",
       "CHRYSLER                 2865\n",
       "MERCEDES-BENZ            1341\n",
       "PORSCHE                  1096\n",
       "MITSUBISHI                940\n",
       "MINI                      854\n",
       "POLESTAR                  852\n",
       "HONDA                     819\n",
       "FIAT                      801\n",
       "SUBARU                    787\n",
       "MAZDA                     384\n",
       "LEXUS                     307\n",
       "SMART                     275\n",
       "LINCOLN                   253\n",
       "CADILLAC                  243\n",
       "LUCID                     231\n",
       "JAGUAR                    221\n",
       "GENESIS                   160\n",
       "LAND ROVER                 52\n",
       "ALFA ROMEO                 29\n",
       "DODGE                      28\n",
       "FISKER                     27\n",
       "AZURE DYNAMICS              8\n",
       "TH!NK                       5\n",
       "BENTLEY                     3\n",
       "WHEEGO ELECTRIC CARS        3\n",
       "GMC                         2\n",
       "Name: Model, dtype: int64"
      ]
     },
     "execution_count": 27,
     "metadata": {},
     "output_type": "execute_result"
    }
   ],
   "source": [
    "df.groupby('Make').count()['Model'].sort_values(ascending=False)"
   ]
  },
  {
   "cell_type": "markdown",
   "id": "5969cc2c",
   "metadata": {},
   "source": [
    "### The below plot shows tesla is the most popular choice among poeple "
   ]
  },
  {
   "cell_type": "code",
   "execution_count": 44,
   "id": "113e2bc5",
   "metadata": {},
   "outputs": [
    {
     "data": {
      "text/plain": [
       "<Axes: xlabel='Make', ylabel='Count'>"
      ]
     },
     "execution_count": 44,
     "metadata": {},
     "output_type": "execute_result"
    },
    {
     "data": {
      "image/png": "[encoded data removed]",
      "text/plain": [
       "<Figure size 640x480 with 1 Axes>"
      ]
     },
     "metadata": {},
     "output_type": "display_data"
    }
   ],
   "source": [
    "df.groupby('Make').count()['Model'].sort_values(ascending=False).plot(kind='bar',xlabel='Make',ylabel='Count')"
   ]
  },
  {
   "cell_type": "markdown",
   "id": "43d1bb33",
   "metadata": {},
   "source": [
    "### The below plot shows how many unique models each company has"
   ]
  },
  {
   "cell_type": "code",
   "execution_count": 112,
   "id": "81d70d8f",
   "metadata": {},
   "outputs": [
    {
     "data": {
      "text/plain": [
       "<Axes: xlabel='Make'>"
      ]
     },
     "execution_count": 112,
     "metadata": {},
     "output_type": "execute_result"
    },
    {
     "data": {
      "image/png": "[encoded data removed]",
      "text/plain": [
       "<Figure size 640x480 with 1 Axes>"
      ]
     },
     "metadata": {},
     "output_type": "display_data"
    }
   ],
   "source": [
    "\n",
    "df.groupby('Make')['Model'].nunique().reset_index(name='Unique Models').sort_values('Unique Models', ascending=False).plot(kind='bar',x='Make',y='Unique Models')\n",
    "\n"
   ]
  },
  {
   "cell_type": "markdown",
   "id": "734efb1f",
   "metadata": {},
   "source": [
    "### The plot below shows that there has been a significant increase in the usage of electric vehicles in the recent years"
   ]
  },
  {
   "cell_type": "code",
   "execution_count": 111,
   "metadata": {},
   "outputs": [
    {
     "data": {
      "text/plain": [
       "<Axes: xlabel='Model Year', ylabel='Count'>"
      ]
     },
     "execution_count": 111,
     "metadata": {},
     "output_type": "execute_result"
    },
    {
     "data": {
      "image/png": "[encoded data removed]",
      "text/plain": [
       "<Figure size 640x480 with 1 Axes>"
      ]
     },
     "metadata": {},
     "output_type": "display_data"
    }
   ],
   "source": [
    "df.groupby('Model Year')['Model'].count().sort_values(ascending=False).head(10).plot(kind='bar',xlabel='Model Year',ylabel='Count')"
   ]
  },
  {
   "cell_type": "markdown",
   "id": "11042c72",
   "metadata": {},
   "source": [
    "### Tesla models has the highest electric range"
   ]
  },
  {
   "cell_type": "code",
   "execution_count": 137,
   "id": "9f37f6c8",
   "metadata": {},
   "outputs": [
    {
     "data": {
      "text/plain": [
       "<Axes: xlabel='Make', ylabel='Max Electric Range'>"
      ]
     },
     "execution_count": 137,
     "metadata": {},
     "output_type": "execute_result"
    },
    {
     "data": {
      "image/png": "[encoded data removed]",
      "text/plain": [
       "<Figure size 640x480 with 1 Axes>"
      ]
     },
     "metadata": {},
     "output_type": "display_data"
    }
   ],
   "source": [
    "df.groupby('Make')['Electric Range'].max().sort_values(ascending=False).plot(kind='bar',xlabel='Make',ylabel='Max Electric Range')"
   ]
  },
  {
   "cell_type": "code",
   "execution_count": 180,
   "id": "3f40b882",
   "metadata": {},
   "outputs": [
    {
     "data": {
      "text/html": [
       "<div>\n",
       "<style scoped>\n",
       "    .dataframe tbody tr th:only-of-type {\n",
       "        vertical-align: middle;\n",
       "    }\n",
       "\n",
       "    .dataframe tbody tr th {\n",
       "        vertical-align: top;\n",
       "    }\n",
       "\n",
       "    .dataframe thead th {\n",
       "        text-align: right;\n",
       "    }\n",
       "</style>\n",
       "<table border=\"1\" class=\"dataframe\">\n",
       "  <thead>\n",
       "    <tr style=\"text-align: right;\">\n",
       "      <th></th>\n",
       "      <th>VIN (1-10)</th>\n",
       "      <th>County</th>\n",
       "      <th>City</th>\n",
       "      <th>State</th>\n",
       "      <th>Postal Code</th>\n",
       "      <th>Model Year</th>\n",
       "      <th>Make</th>\n",
       "      <th>Model</th>\n",
       "      <th>Electric Vehicle Type</th>\n",
       "      <th>Clean Alternative Fuel Vehicle (CAFV) Eligibility</th>\n",
       "      <th>Electric Range</th>\n",
       "      <th>Base MSRP</th>\n",
       "      <th>Legislative District</th>\n",
       "      <th>DOL Vehicle ID</th>\n",
       "      <th>Vehicle Location</th>\n",
       "      <th>Electric Utility</th>\n",
       "      <th>2020 Census Tract</th>\n",
       "    </tr>\n",
       "  </thead>\n",
       "  <tbody>\n",
       "    <tr>\n",
       "      <th>0</th>\n",
       "      <td>3C3CFFGE4E</td>\n",
       "      <td>Yakima</td>\n",
       "      <td>Yakima</td>\n",
       "      <td>WA</td>\n",
       "      <td>98902.0</td>\n",
       "      <td>2014</td>\n",
       "      <td>FIAT</td>\n",
       "      <td>500</td>\n",
       "      <td>Battery Electric Vehicle (BEV)</td>\n",
       "      <td>Clean Alternative Fuel Vehicle Eligible</td>\n",
       "      <td>87</td>\n",
       "      <td>0</td>\n",
       "      <td>14.0</td>\n",
       "      <td>1593721</td>\n",
       "      <td>POINT (-120.524012 46.5973939)</td>\n",
       "      <td>PACIFICORP</td>\n",
       "      <td>5.307700e+10</td>\n",
       "    </tr>\n",
       "    <tr>\n",
       "      <th>1</th>\n",
       "      <td>5YJXCBE40H</td>\n",
       "      <td>Thurston</td>\n",
       "      <td>Olympia</td>\n",
       "      <td>WA</td>\n",
       "      <td>98513.0</td>\n",
       "      <td>2017</td>\n",
       "      <td>TESLA</td>\n",
       "      <td>MODEL X</td>\n",
       "      <td>Battery Electric Vehicle (BEV)</td>\n",
       "      <td>Clean Alternative Fuel Vehicle Eligible</td>\n",
       "      <td>200</td>\n",
       "      <td>0</td>\n",
       "      <td>2.0</td>\n",
       "      <td>257167501</td>\n",
       "      <td>POINT (-122.817545 46.98876)</td>\n",
       "      <td>PUGET SOUND ENERGY INC</td>\n",
       "      <td>5.306701e+10</td>\n",
       "    </tr>\n",
       "    <tr>\n",
       "      <th>2</th>\n",
       "      <td>3MW39FS03P</td>\n",
       "      <td>King</td>\n",
       "      <td>Renton</td>\n",
       "      <td>WA</td>\n",
       "      <td>98058.0</td>\n",
       "      <td>2023</td>\n",
       "      <td>BMW</td>\n",
       "      <td>330E</td>\n",
       "      <td>Plug-in Hybrid Electric Vehicle (PHEV)</td>\n",
       "      <td>Not eligible due to low battery range</td>\n",
       "      <td>20</td>\n",
       "      <td>0</td>\n",
       "      <td>11.0</td>\n",
       "      <td>224071816</td>\n",
       "      <td>POINT (-122.1298876 47.4451257)</td>\n",
       "      <td>PUGET SOUND ENERGY INC||CITY OF TACOMA - (WA)</td>\n",
       "      <td>5.303303e+10</td>\n",
       "    </tr>\n",
       "    <tr>\n",
       "      <th>3</th>\n",
       "      <td>7PDSGABA8P</td>\n",
       "      <td>Snohomish</td>\n",
       "      <td>Bothell</td>\n",
       "      <td>WA</td>\n",
       "      <td>98012.0</td>\n",
       "      <td>2023</td>\n",
       "      <td>RIVIAN</td>\n",
       "      <td>R1S</td>\n",
       "      <td>Battery Electric Vehicle (BEV)</td>\n",
       "      <td>Eligibility unknown as battery range has not b...</td>\n",
       "      <td>0</td>\n",
       "      <td>0</td>\n",
       "      <td>21.0</td>\n",
       "      <td>260084653</td>\n",
       "      <td>POINT (-122.1873 47.820245)</td>\n",
       "      <td>PUGET SOUND ENERGY INC</td>\n",
       "      <td>5.306105e+10</td>\n",
       "    </tr>\n",
       "    <tr>\n",
       "      <th>4</th>\n",
       "      <td>5YJ3E1EB8L</td>\n",
       "      <td>King</td>\n",
       "      <td>Kent</td>\n",
       "      <td>WA</td>\n",
       "      <td>98031.0</td>\n",
       "      <td>2020</td>\n",
       "      <td>TESLA</td>\n",
       "      <td>MODEL 3</td>\n",
       "      <td>Battery Electric Vehicle (BEV)</td>\n",
       "      <td>Clean Alternative Fuel Vehicle Eligible</td>\n",
       "      <td>322</td>\n",
       "      <td>0</td>\n",
       "      <td>33.0</td>\n",
       "      <td>253771913</td>\n",
       "      <td>POINT (-122.2012521 47.3931814)</td>\n",
       "      <td>PUGET SOUND ENERGY INC||CITY OF TACOMA - (WA)</td>\n",
       "      <td>5.303303e+10</td>\n",
       "    </tr>\n",
       "  </tbody>\n",
       "</table>\n",
       "</div>"
      ],
      "text/plain": [
       "   VIN (1-10)     County     City State  Postal Code  Model Year    Make  \\\n",
       "0  3C3CFFGE4E     Yakima   Yakima    WA      98902.0        2014    FIAT   \n",
       "1  5YJXCBE40H   Thurston  Olympia    WA      98513.0        2017   TESLA   \n",
       "2  3MW39FS03P       King   Renton    WA      98058.0        2023     BMW   \n",
       "3  7PDSGABA8P  Snohomish  Bothell    WA      98012.0        2023  RIVIAN   \n",
       "4  5YJ3E1EB8L       King     Kent    WA      98031.0        2020   TESLA   \n",
       "\n",
       "     Model                   Electric Vehicle Type  \\\n",
       "0      500          Battery Electric Vehicle (BEV)   \n",
       "1  MODEL X          Battery Electric Vehicle (BEV)   \n",
       "2     330E  Plug-in Hybrid Electric Vehicle (PHEV)   \n",
       "3      R1S          Battery Electric Vehicle (BEV)   \n",
       "4  MODEL 3          Battery Electric Vehicle (BEV)   \n",
       "\n",
       "   Clean Alternative Fuel Vehicle (CAFV) Eligibility  Electric Range  \\\n",
       "0            Clean Alternative Fuel Vehicle Eligible              87   \n",
       "1            Clean Alternative Fuel Vehicle Eligible             200   \n",
       "2              Not eligible due to low battery range              20   \n",
       "3  Eligibility unknown as battery range has not b...               0   \n",
       "4            Clean Alternative Fuel Vehicle Eligible             322   \n",
       "\n",
       "   Base MSRP  Legislative District  DOL Vehicle ID  \\\n",
       "0          0                  14.0         1593721   \n",
       "1          0                   2.0       257167501   \n",
       "2          0                  11.0       224071816   \n",
       "3          0                  21.0       260084653   \n",
       "4          0                  33.0       253771913   \n",
       "\n",
       "                  Vehicle Location  \\\n",
       "0   POINT (-120.524012 46.5973939)   \n",
       "1     POINT (-122.817545 46.98876)   \n",
       "2  POINT (-122.1298876 47.4451257)   \n",
       "3      POINT (-122.1873 47.820245)   \n",
       "4  POINT (-122.2012521 47.3931814)   \n",
       "\n",
       "                                Electric Utility  2020 Census Tract  \n",
       "0                                     PACIFICORP       5.307700e+10  \n",
       "1                         PUGET SOUND ENERGY INC       5.306701e+10  \n",
       "2  PUGET SOUND ENERGY INC||CITY OF TACOMA - (WA)       5.303303e+10  \n",
       "3                         PUGET SOUND ENERGY INC       5.306105e+10  \n",
       "4  PUGET SOUND ENERGY INC||CITY OF TACOMA - (WA)       5.303303e+10  "
      ]
     },
     "execution_count": 180,
     "metadata": {},
     "output_type": "execute_result"
    }
   ],
   "source": [
    "df.head()"
   ]
  },
  {
   "cell_type": "code",
   "execution_count": 188,
   "id": "4e092c5a",
   "metadata": {},
   "outputs": [
    {
     "data": {
      "text/html": [
       "<div>\n",
       "<style scoped>\n",
       "    .dataframe tbody tr th:only-of-type {\n",
       "        vertical-align: middle;\n",
       "    }\n",
       "\n",
       "    .dataframe tbody tr th {\n",
       "        vertical-align: top;\n",
       "    }\n",
       "\n",
       "    .dataframe thead th {\n",
       "        text-align: right;\n",
       "    }\n",
       "</style>\n",
       "<table border=\"1\" class=\"dataframe\">\n",
       "  <thead>\n",
       "    <tr style=\"text-align: right;\">\n",
       "      <th></th>\n",
       "      <th>County</th>\n",
       "      <th>Make</th>\n",
       "      <th>Model</th>\n",
       "      <th>Count</th>\n",
       "    </tr>\n",
       "  </thead>\n",
       "  <tbody>\n",
       "    <tr>\n",
       "      <th>1023</th>\n",
       "      <td>King</td>\n",
       "      <td>TESLA</td>\n",
       "      <td>MODEL Y</td>\n",
       "      <td>18633</td>\n",
       "    </tr>\n",
       "    <tr>\n",
       "      <th>1994</th>\n",
       "      <td>Snohomish</td>\n",
       "      <td>TESLA</td>\n",
       "      <td>MODEL Y</td>\n",
       "      <td>5078</td>\n",
       "    </tr>\n",
       "    <tr>\n",
       "      <th>1647</th>\n",
       "      <td>Pierce</td>\n",
       "      <td>TESLA</td>\n",
       "      <td>MODEL 3</td>\n",
       "      <td>2275</td>\n",
       "    </tr>\n",
       "    <tr>\n",
       "      <th>383</th>\n",
       "      <td>Clark</td>\n",
       "      <td>TESLA</td>\n",
       "      <td>MODEL Y</td>\n",
       "      <td>1656</td>\n",
       "    </tr>\n",
       "    <tr>\n",
       "      <th>2256</th>\n",
       "      <td>Thurston</td>\n",
       "      <td>TESLA</td>\n",
       "      <td>MODEL Y</td>\n",
       "      <td>788</td>\n",
       "    </tr>\n",
       "    <tr>\n",
       "      <th>1131</th>\n",
       "      <td>Kitsap</td>\n",
       "      <td>TESLA</td>\n",
       "      <td>MODEL 3</td>\n",
       "      <td>746</td>\n",
       "    </tr>\n",
       "    <tr>\n",
       "      <th>2102</th>\n",
       "      <td>Spokane</td>\n",
       "      <td>TESLA</td>\n",
       "      <td>MODEL Y</td>\n",
       "      <td>732</td>\n",
       "    </tr>\n",
       "    <tr>\n",
       "      <th>2432</th>\n",
       "      <td>Whatcom</td>\n",
       "      <td>NISSAN</td>\n",
       "      <td>LEAF</td>\n",
       "      <td>616</td>\n",
       "    </tr>\n",
       "    <tr>\n",
       "      <th>120</th>\n",
       "      <td>Benton</td>\n",
       "      <td>TESLA</td>\n",
       "      <td>MODEL 3</td>\n",
       "      <td>375</td>\n",
       "    </tr>\n",
       "    <tr>\n",
       "      <th>1827</th>\n",
       "      <td>Skagit</td>\n",
       "      <td>TESLA</td>\n",
       "      <td>MODEL Y</td>\n",
       "      <td>265</td>\n",
       "    </tr>\n",
       "    <tr>\n",
       "      <th>819</th>\n",
       "      <td>Island</td>\n",
       "      <td>TESLA</td>\n",
       "      <td>MODEL Y</td>\n",
       "      <td>254</td>\n",
       "    </tr>\n",
       "    <tr>\n",
       "      <th>1723</th>\n",
       "      <td>San Juan</td>\n",
       "      <td>NISSAN</td>\n",
       "      <td>LEAF</td>\n",
       "      <td>204</td>\n",
       "    </tr>\n",
       "    <tr>\n",
       "      <th>198</th>\n",
       "      <td>Chelan</td>\n",
       "      <td>TESLA</td>\n",
       "      <td>MODEL Y</td>\n",
       "      <td>193</td>\n",
       "    </tr>\n",
       "    <tr>\n",
       "      <th>2584</th>\n",
       "      <td>Yakima</td>\n",
       "      <td>TESLA</td>\n",
       "      <td>MODEL 3</td>\n",
       "      <td>181</td>\n",
       "    </tr>\n",
       "    <tr>\n",
       "      <th>880</th>\n",
       "      <td>Jefferson</td>\n",
       "      <td>NISSAN</td>\n",
       "      <td>LEAF</td>\n",
       "      <td>166</td>\n",
       "    </tr>\n",
       "    <tr>\n",
       "      <th>467</th>\n",
       "      <td>Cowlitz</td>\n",
       "      <td>TESLA</td>\n",
       "      <td>MODEL 3</td>\n",
       "      <td>129</td>\n",
       "    </tr>\n",
       "    <tr>\n",
       "      <th>602</th>\n",
       "      <td>Franklin</td>\n",
       "      <td>TESLA</td>\n",
       "      <td>MODEL 3</td>\n",
       "      <td>125</td>\n",
       "    </tr>\n",
       "    <tr>\n",
       "      <th>1415</th>\n",
       "      <td>Mason</td>\n",
       "      <td>TESLA</td>\n",
       "      <td>MODEL 3</td>\n",
       "      <td>122</td>\n",
       "    </tr>\n",
       "    <tr>\n",
       "      <th>262</th>\n",
       "      <td>Clallam</td>\n",
       "      <td>NISSAN</td>\n",
       "      <td>LEAF</td>\n",
       "      <td>119</td>\n",
       "    </tr>\n",
       "    <tr>\n",
       "      <th>1211</th>\n",
       "      <td>Kittitas</td>\n",
       "      <td>TESLA</td>\n",
       "      <td>MODEL Y</td>\n",
       "      <td>118</td>\n",
       "    </tr>\n",
       "    <tr>\n",
       "      <th>665</th>\n",
       "      <td>Grant</td>\n",
       "      <td>TESLA</td>\n",
       "      <td>MODEL 3</td>\n",
       "      <td>97</td>\n",
       "    </tr>\n",
       "    <tr>\n",
       "      <th>1318</th>\n",
       "      <td>Lewis</td>\n",
       "      <td>TESLA</td>\n",
       "      <td>MODEL 3</td>\n",
       "      <td>87</td>\n",
       "    </tr>\n",
       "    <tr>\n",
       "      <th>729</th>\n",
       "      <td>Grays Harbor</td>\n",
       "      <td>TESLA</td>\n",
       "      <td>MODEL 3</td>\n",
       "      <td>78</td>\n",
       "    </tr>\n",
       "    <tr>\n",
       "      <th>524</th>\n",
       "      <td>Douglas</td>\n",
       "      <td>TESLA</td>\n",
       "      <td>MODEL Y</td>\n",
       "      <td>64</td>\n",
       "    </tr>\n",
       "    <tr>\n",
       "      <th>2347</th>\n",
       "      <td>Walla Walla</td>\n",
       "      <td>TESLA</td>\n",
       "      <td>MODEL Y</td>\n",
       "      <td>57</td>\n",
       "    </tr>\n",
       "    <tr>\n",
       "      <th>2509</th>\n",
       "      <td>Whitman</td>\n",
       "      <td>TESLA</td>\n",
       "      <td>MODEL Y</td>\n",
       "      <td>55</td>\n",
       "    </tr>\n",
       "    <tr>\n",
       "      <th>1254</th>\n",
       "      <td>Klickitat</td>\n",
       "      <td>TESLA</td>\n",
       "      <td>MODEL Y</td>\n",
       "      <td>51</td>\n",
       "    </tr>\n",
       "    <tr>\n",
       "      <th>1463</th>\n",
       "      <td>Okanogan</td>\n",
       "      <td>TESLA</td>\n",
       "      <td>MODEL Y</td>\n",
       "      <td>49</td>\n",
       "    </tr>\n",
       "    <tr>\n",
       "      <th>2154</th>\n",
       "      <td>Stevens</td>\n",
       "      <td>TESLA</td>\n",
       "      <td>MODEL Y</td>\n",
       "      <td>36</td>\n",
       "    </tr>\n",
       "    <tr>\n",
       "      <th>1874</th>\n",
       "      <td>Skamania</td>\n",
       "      <td>TESLA</td>\n",
       "      <td>MODEL 3</td>\n",
       "      <td>32</td>\n",
       "    </tr>\n",
       "    <tr>\n",
       "      <th>1504</th>\n",
       "      <td>Pacific</td>\n",
       "      <td>TESLA</td>\n",
       "      <td>MODEL 3</td>\n",
       "      <td>24</td>\n",
       "    </tr>\n",
       "    <tr>\n",
       "      <th>1542</th>\n",
       "      <td>Pend Oreille</td>\n",
       "      <td>TESLA</td>\n",
       "      <td>MODEL Y</td>\n",
       "      <td>8</td>\n",
       "    </tr>\n",
       "    <tr>\n",
       "      <th>14</th>\n",
       "      <td>Adams</td>\n",
       "      <td>TESLA</td>\n",
       "      <td>MODEL 3</td>\n",
       "      <td>7</td>\n",
       "    </tr>\n",
       "    <tr>\n",
       "      <th>539</th>\n",
       "      <td>Ferry</td>\n",
       "      <td>TESLA</td>\n",
       "      <td>MODEL 3</td>\n",
       "      <td>7</td>\n",
       "    </tr>\n",
       "    <tr>\n",
       "      <th>43</th>\n",
       "      <td>Asotin</td>\n",
       "      <td>TOYOTA</td>\n",
       "      <td>PRIUS PRIME</td>\n",
       "      <td>6</td>\n",
       "    </tr>\n",
       "    <tr>\n",
       "      <th>1335</th>\n",
       "      <td>Lincoln</td>\n",
       "      <td>CHEVROLET</td>\n",
       "      <td>BOLT EV</td>\n",
       "      <td>6</td>\n",
       "    </tr>\n",
       "    <tr>\n",
       "      <th>2273</th>\n",
       "      <td>Wahkiakum</td>\n",
       "      <td>CHEVROLET</td>\n",
       "      <td>BOLT EV</td>\n",
       "      <td>6</td>\n",
       "    </tr>\n",
       "    <tr>\n",
       "      <th>401</th>\n",
       "      <td>Columbia</td>\n",
       "      <td>CHEVROLET</td>\n",
       "      <td>BOLT EV</td>\n",
       "      <td>4</td>\n",
       "    </tr>\n",
       "    <tr>\n",
       "      <th>612</th>\n",
       "      <td>Garfield</td>\n",
       "      <td>FORD</td>\n",
       "      <td>C-MAX</td>\n",
       "      <td>2</td>\n",
       "    </tr>\n",
       "  </tbody>\n",
       "</table>\n",
       "</div>"
      ],
      "text/plain": [
       "            County       Make        Model  Count\n",
       "1023          King      TESLA      MODEL Y  18633\n",
       "1994     Snohomish      TESLA      MODEL Y   5078\n",
       "1647        Pierce      TESLA      MODEL 3   2275\n",
       "383          Clark      TESLA      MODEL Y   1656\n",
       "2256      Thurston      TESLA      MODEL Y    788\n",
       "1131        Kitsap      TESLA      MODEL 3    746\n",
       "2102       Spokane      TESLA      MODEL Y    732\n",
       "2432       Whatcom     NISSAN         LEAF    616\n",
       "120         Benton      TESLA      MODEL 3    375\n",
       "1827        Skagit      TESLA      MODEL Y    265\n",
       "819         Island      TESLA      MODEL Y    254\n",
       "1723      San Juan     NISSAN         LEAF    204\n",
       "198         Chelan      TESLA      MODEL Y    193\n",
       "2584        Yakima      TESLA      MODEL 3    181\n",
       "880      Jefferson     NISSAN         LEAF    166\n",
       "467        Cowlitz      TESLA      MODEL 3    129\n",
       "602       Franklin      TESLA      MODEL 3    125\n",
       "1415         Mason      TESLA      MODEL 3    122\n",
       "262        Clallam     NISSAN         LEAF    119\n",
       "1211      Kittitas      TESLA      MODEL Y    118\n",
       "665          Grant      TESLA      MODEL 3     97\n",
       "1318         Lewis      TESLA      MODEL 3     87\n",
       "729   Grays Harbor      TESLA      MODEL 3     78\n",
       "524        Douglas      TESLA      MODEL Y     64\n",
       "2347   Walla Walla      TESLA      MODEL Y     57\n",
       "2509       Whitman      TESLA      MODEL Y     55\n",
       "1254     Klickitat      TESLA      MODEL Y     51\n",
       "1463      Okanogan      TESLA      MODEL Y     49\n",
       "2154       Stevens      TESLA      MODEL Y     36\n",
       "1874      Skamania      TESLA      MODEL 3     32\n",
       "1504       Pacific      TESLA      MODEL 3     24\n",
       "1542  Pend Oreille      TESLA      MODEL Y      8\n",
       "14           Adams      TESLA      MODEL 3      7\n",
       "539          Ferry      TESLA      MODEL 3      7\n",
       "43          Asotin     TOYOTA  PRIUS PRIME      6\n",
       "1335       Lincoln  CHEVROLET      BOLT EV      6\n",
       "2273     Wahkiakum  CHEVROLET      BOLT EV      6\n",
       "401       Columbia  CHEVROLET      BOLT EV      4\n",
       "612       Garfield       FORD        C-MAX      2"
      ]
     },
     "execution_count": 188,
     "metadata": {},
     "output_type": "execute_result"
    }
   ],
   "source": [
    "\n",
    "\n",
    "\n",
    "df.groupby(['County', 'Make', 'Model']).size().reset_index(name='Count').sort_values(by='Count', ascending=False).drop_duplicates(subset='County')\n",
    "\n",
    "\n",
    "\n"
   ]
  },
  {
   "cell_type": "markdown",
   "id": "d0b03543",
   "metadata": {},
   "source": [
    "#### Base on th above data, Tesla seems to dominate the top counties having the most electric cars."
   ]
  },
  {
   "cell_type": "code",
   "execution_count": 206,
   "id": "f3b8c472",
   "metadata": {},
   "outputs": [
    {
     "name": "stdout",
     "output_type": "stream",
     "text": [
      "        County      City State               Vehicle Location  Vehicle Count\n",
      "240       King   Redmond    WA    POINT (-122.12302 47.67668)           4245\n",
      "208       King  Kirkland    WA     POINT (-122.20264 47.6785)           2780\n",
      "159       King  Bellevue    WA   POINT (-122.16937 47.571015)           2650\n",
      "272       King   Seattle    WA     POINT (-122.3185 47.67949)           2553\n",
      "585  Snohomish   Bothell    WA    POINT (-122.1873 47.820245)           2464\n",
      "..         ...       ...   ...                            ...            ...\n",
      "382      Lewis    Curtis    WA    POINT (-122.96692 46.66113)              1\n",
      "379      Lewis  Chehalis    WA  POINT (-122.962555 46.716875)              1\n",
      "378      Lewis  Chehalis    WA  POINT (-122.71614 46.5308781)              1\n",
      "375      Lewis      Adna    WA      POINT (-123.0615 46.6326)              1\n",
      "793     Yakima    Zillah    WA   POINT (-120.421245 46.44554)              1\n",
      "\n",
      "[794 rows x 5 columns]\n"
     ]
    }
   ],
   "source": [
    "count_by_location = df.groupby(['County', 'City', 'State','Vehicle Location']).size().reset_index(name='Vehicle Count').sort_values(by='Vehicle Count', ascending=False)\n",
    "print(count_by_location)\n"
   ]
  },
  {
   "cell_type": "code",
   "execution_count": 195,
   "id": "6c15821c",
   "metadata": {},
   "outputs": [
    {
     "name": "stdout",
     "output_type": "stream",
     "text": [
      "          Make    Model  Vehicle Count\n",
      "119      TESLA  MODEL Y          32765\n",
      "116      TESLA  MODEL 3          28847\n",
      "102     NISSAN     LEAF          13261\n",
      "117      TESLA  MODEL S           7588\n",
      "35   CHEVROLET  BOLT EV           6405\n"
     ]
    }
   ],
   "source": [
    "popular_make_model = df.groupby(['Make', 'Model']).size().reset_index(name='Vehicle Count').sort_values(by='Vehicle Count', ascending=False)\n",
    "print(popular_make_model.head())"
   ]
  },
  {
   "cell_type": "code",
   "execution_count": 196,
   "id": "74b4e374",
   "metadata": {},
   "outputs": [
    {
     "name": "stdout",
     "output_type": "stream",
     "text": [
      "Electric Vehicle Type\n",
      "Battery Electric Vehicle (BEV)            130053\n",
      "Plug-in Hybrid Electric Vehicle (PHEV)     36382\n",
      "Name: count, dtype: int64\n"
     ]
    }
   ],
   "source": [
    "ev_type_distribution = df['Electric Vehicle Type'].value_counts()\n",
    "print(ev_type_distribution)"
   ]
  },
  {
   "cell_type": "code",
   "execution_count": 197,
   "id": "1ace31f0",
   "metadata": {},
   "outputs": [
    {
     "name": "stdout",
     "output_type": "stream",
     "text": [
      "Clean Alternative Fuel Vehicle (CAFV) Eligibility\n",
      "Eligibility unknown as battery range has not been researched    83377\n",
      "Clean Alternative Fuel Vehicle Eligible                         64142\n",
      "Not eligible due to low battery range                           18916\n",
      "Name: count, dtype: int64\n"
     ]
    }
   ],
   "source": [
    "cafv_eligibility_distribution = df['Clean Alternative Fuel Vehicle (CAFV) Eligibility'].value_counts()\n",
    "print(cafv_eligibility_distribution)"
   ]
  },
  {
   "cell_type": "code",
   "execution_count": 198,
   "id": "63bd3986",
   "metadata": {},
   "outputs": [
    {
     "name": "stdout",
     "output_type": "stream",
     "text": [
      "count    166435.000000\n",
      "mean         61.496861\n",
      "std          93.270217\n",
      "min           0.000000\n",
      "25%           0.000000\n",
      "50%           0.000000\n",
      "75%          84.000000\n",
      "max         337.000000\n",
      "Name: Electric Range, dtype: float64\n"
     ]
    }
   ],
   "source": [
    "electric_range_stats = df['Electric Range'].describe()\n",
    "print(electric_range_stats)"
   ]
  },
  {
   "cell_type": "code",
   "execution_count": null,
   "id": "996686f5",
   "metadata": {},
   "outputs": [],
   "source": []
  },
  {
   "cell_type": "markdown",
   "id": "785ab67b",
   "metadata": {},
   "source": []
  },
  {
   "cell_type": "markdown",
   "id": "e05477c2",
   "metadata": {},
   "source": []
  }
 ],
 "metadata": {
  "kaggle": {
   "accelerator": "gpu",
   "dataSources": [
    {
     "datasetId": 4291772,
     "sourceId": 7384155,
     "sourceType": "datasetVersion"
    },
    {
     "datasetId": 4363170,
     "sourceId": 7493498,
     "sourceType": "datasetVersion"
    }
   ],
   "dockerImageVersionId": 30646,
   "isGpuEnabled": true,
   "isInternetEnabled": true,
   "language": "python",
   "sourceType": "notebook"
  },
  "kernelspec": {
   "display_name": "Python 3",
   "language": "python",
   "name": "python3"
  },
  "language_info": {
   "codemirror_mode": {
    "name": "ipython",
    "version": 3
   },
   "file_extension": ".py",
   "mimetype": "text/x-python",
   "name": "python",
   "nbconvert_exporter": "python",
   "pygments_lexer": "ipython3",
   "version": "3.11.5"
  },
  "papermill": {
   "default_parameters": {},
   "duration": 9.427815,
   "end_time": "2024-01-31T14:06:48.441680",
   "environment_variables": {},
   "exception": null,
   "input_path": "__notebook__.ipynb",
   "output_path": "__notebook__.ipynb",
   "parameters": {},
   "start_time": "2024-01-31T14:06:39.013865",
   "version": "2.5.0"
  }
 },
 "nbformat": 4,
 "nbformat_minor": 5
}
